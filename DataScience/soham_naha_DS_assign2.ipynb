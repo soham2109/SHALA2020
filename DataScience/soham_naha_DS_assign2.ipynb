{
 "cells": [
  {
   "cell_type": "markdown",
   "metadata": {
    "colab_type": "text",
    "id": "1X6ddOR8HFsX"
   },
   "source": [
    "\n",
    "# **Assignment - 2: Basic Data Understanding**\n",
    "\n",
    "---\n",
    "\n",
    "This assignment will get you familiarized with Python libraries and  functions required for data visualization."
   ]
  },
  {
   "cell_type": "markdown",
   "metadata": {
    "colab_type": "text",
    "id": "XRd4EfXN5fQb"
   },
   "source": [
    "---\n",
    "## Part 1 - Loading data \n",
    "---"
   ]
  },
  {
   "cell_type": "markdown",
   "metadata": {
    "colab_type": "text",
    "id": "Q7W6I-fVIoqp"
   },
   "source": [
    "###Import the following libraries:  \n",
    "\n",
    "* ```numpy``` with an alias name ```np```, \n",
    "* ```pandas``` with an alias name ```pd```, \n",
    "* ```matplotlib.pyplot``` with an alias name ```plt```, and \n",
    "* ```seaborn``` with an alias name ```sns```. "
   ]
  },
  {
   "cell_type": "code",
   "execution_count": 0,
   "metadata": {
    "colab": {
     "base_uri": "https://localhost:8080/",
     "height": 50
    },
    "colab_type": "code",
    "executionInfo": {
     "elapsed": 2371,
     "status": "ok",
     "timestamp": 1587280437522,
     "user": {
      "displayName": "Soham Naha",
      "photoUrl": "",
      "userId": "16336359137283689663"
     },
     "user_tz": -330
    },
    "id": "NihF3MwIGI4m",
    "outputId": "3c79b37f-d635-4c64-c107-e8571953b548"
   },
   "outputs": [
    {
     "name": "stderr",
     "output_type": "stream",
     "text": [
      "/usr/local/lib/python3.6/dist-packages/statsmodels/tools/_testing.py:19: FutureWarning: pandas.util.testing is deprecated. Use the functions in the public API at pandas.testing instead.\n",
      "  import pandas.util.testing as tm\n"
     ]
    }
   ],
   "source": [
    "# Load the four libraries with their aliases \n",
    "import numpy as np\n",
    "import pandas as pd\n",
    "import matplotlib.pyplot as plt\n",
    "import seaborn as sns"
   ]
  },
  {
   "cell_type": "markdown",
   "metadata": {
    "colab_type": "text",
    "id": "dsLj-TSQJgMb"
   },
   "source": [
    "### Using the files ```train.csv``` and ```moviesData.csv```,  peform the following:\n",
    "\n",
    "* Load these file as ```pandas``` dataframes and store it in variables named ```df``` and ```movies``` respectively. \n",
    "* Print the first ten rows of ```df```. \n",
    "\n"
   ]
  },
  {
   "cell_type": "code",
   "execution_count": 0,
   "metadata": {
    "colab": {},
    "colab_type": "code",
    "id": "3AjvT40AGIq6"
   },
   "outputs": [],
   "source": [
    "# Load the file as a dataframe \n",
    "df = pd.read_csv(\"https://raw.githubusercontent.com/shala2020/shala2020.github.io/master/Lecture_Materials/Assignments/DataScience/L2/train.csv\")\n",
    "movies = pd.read_csv(\"https://raw.githubusercontent.com/shala2020/shala2020.github.io/master/Lecture_Materials/Assignments/DataScience/L2/moviesData.csv\")"
   ]
  },
  {
   "cell_type": "code",
   "execution_count": 0,
   "metadata": {
    "colab": {
     "base_uri": "https://localhost:8080/",
     "height": 517
    },
    "colab_type": "code",
    "executionInfo": {
     "elapsed": 5234,
     "status": "ok",
     "timestamp": 1587280440464,
     "user": {
      "displayName": "Soham Naha",
      "photoUrl": "",
      "userId": "16336359137283689663"
     },
     "user_tz": -330
    },
    "id": "7eCo7WlMGMkn",
    "outputId": "87392b83-ef5b-4bdd-c985-8a8bbd2ee329"
   },
   "outputs": [
    {
     "data": {
      "text/html": [
       "<div>\n",
       "<style scoped>\n",
       "    .dataframe tbody tr th:only-of-type {\n",
       "        vertical-align: middle;\n",
       "    }\n",
       "\n",
       "    .dataframe tbody tr th {\n",
       "        vertical-align: top;\n",
       "    }\n",
       "\n",
       "    .dataframe thead th {\n",
       "        text-align: right;\n",
       "    }\n",
       "</style>\n",
       "<table border=\"1\" class=\"dataframe\">\n",
       "  <thead>\n",
       "    <tr style=\"text-align: right;\">\n",
       "      <th></th>\n",
       "      <th>Age</th>\n",
       "      <th>Attrition</th>\n",
       "      <th>BusinessTravel</th>\n",
       "      <th>DailyRate</th>\n",
       "      <th>Department</th>\n",
       "      <th>DistanceFromHome</th>\n",
       "      <th>Education</th>\n",
       "      <th>EducationField</th>\n",
       "      <th>EmployeeCount</th>\n",
       "      <th>EmployeeNumber</th>\n",
       "      <th>EnvironmentSatisfaction</th>\n",
       "      <th>Gender</th>\n",
       "      <th>HourlyRate</th>\n",
       "      <th>JobInvolvement</th>\n",
       "      <th>JobLevel</th>\n",
       "      <th>JobRole</th>\n",
       "      <th>JobSatisfaction</th>\n",
       "      <th>MaritalStatus</th>\n",
       "      <th>MonthlyIncome</th>\n",
       "      <th>MonthlyRate</th>\n",
       "      <th>NumCompaniesWorked</th>\n",
       "      <th>OverTime</th>\n",
       "      <th>PercentSalaryHike</th>\n",
       "      <th>PerformanceRating</th>\n",
       "      <th>RelationshipSatisfaction</th>\n",
       "      <th>StockOptionLevel</th>\n",
       "      <th>TotalWorkingYears</th>\n",
       "      <th>TrainingTimesLastYear</th>\n",
       "      <th>WorkLifeBalance</th>\n",
       "      <th>YearsAtCompany</th>\n",
       "      <th>YearsInCurrentRole</th>\n",
       "      <th>YearsSinceLastPromotion</th>\n",
       "      <th>YearsWithCurrManager</th>\n",
       "      <th>ID</th>\n",
       "    </tr>\n",
       "  </thead>\n",
       "  <tbody>\n",
       "    <tr>\n",
       "      <th>0</th>\n",
       "      <td>41</td>\n",
       "      <td>1</td>\n",
       "      <td>Travel_Rarely</td>\n",
       "      <td>1102</td>\n",
       "      <td>Sales</td>\n",
       "      <td>1</td>\n",
       "      <td>2</td>\n",
       "      <td>Life Sciences</td>\n",
       "      <td>1</td>\n",
       "      <td>1</td>\n",
       "      <td>2</td>\n",
       "      <td>Female</td>\n",
       "      <td>94</td>\n",
       "      <td>3</td>\n",
       "      <td>2</td>\n",
       "      <td>Sales Executive</td>\n",
       "      <td>4</td>\n",
       "      <td>Single</td>\n",
       "      <td>5993</td>\n",
       "      <td>19479</td>\n",
       "      <td>8</td>\n",
       "      <td>Yes</td>\n",
       "      <td>11</td>\n",
       "      <td>3</td>\n",
       "      <td>1</td>\n",
       "      <td>0</td>\n",
       "      <td>8</td>\n",
       "      <td>0</td>\n",
       "      <td>1</td>\n",
       "      <td>6</td>\n",
       "      <td>4</td>\n",
       "      <td>0</td>\n",
       "      <td>5</td>\n",
       "      <td>0</td>\n",
       "    </tr>\n",
       "    <tr>\n",
       "      <th>1</th>\n",
       "      <td>49</td>\n",
       "      <td>0</td>\n",
       "      <td>Travel_Frequently</td>\n",
       "      <td>279</td>\n",
       "      <td>Research &amp; Development</td>\n",
       "      <td>8</td>\n",
       "      <td>1</td>\n",
       "      <td>Life Sciences</td>\n",
       "      <td>1</td>\n",
       "      <td>2</td>\n",
       "      <td>3</td>\n",
       "      <td>Male</td>\n",
       "      <td>61</td>\n",
       "      <td>2</td>\n",
       "      <td>2</td>\n",
       "      <td>Research Scientist</td>\n",
       "      <td>2</td>\n",
       "      <td>Married</td>\n",
       "      <td>5130</td>\n",
       "      <td>24907</td>\n",
       "      <td>1</td>\n",
       "      <td>No</td>\n",
       "      <td>23</td>\n",
       "      <td>4</td>\n",
       "      <td>4</td>\n",
       "      <td>1</td>\n",
       "      <td>10</td>\n",
       "      <td>3</td>\n",
       "      <td>3</td>\n",
       "      <td>10</td>\n",
       "      <td>7</td>\n",
       "      <td>1</td>\n",
       "      <td>7</td>\n",
       "      <td>1</td>\n",
       "    </tr>\n",
       "    <tr>\n",
       "      <th>2</th>\n",
       "      <td>37</td>\n",
       "      <td>1</td>\n",
       "      <td>Travel_Rarely</td>\n",
       "      <td>1373</td>\n",
       "      <td>Research &amp; Development</td>\n",
       "      <td>2</td>\n",
       "      <td>2</td>\n",
       "      <td>Other</td>\n",
       "      <td>1</td>\n",
       "      <td>4</td>\n",
       "      <td>4</td>\n",
       "      <td>Male</td>\n",
       "      <td>92</td>\n",
       "      <td>2</td>\n",
       "      <td>1</td>\n",
       "      <td>Laboratory Technician</td>\n",
       "      <td>3</td>\n",
       "      <td>Single</td>\n",
       "      <td>2090</td>\n",
       "      <td>2396</td>\n",
       "      <td>6</td>\n",
       "      <td>Yes</td>\n",
       "      <td>15</td>\n",
       "      <td>3</td>\n",
       "      <td>2</td>\n",
       "      <td>0</td>\n",
       "      <td>7</td>\n",
       "      <td>3</td>\n",
       "      <td>3</td>\n",
       "      <td>0</td>\n",
       "      <td>0</td>\n",
       "      <td>0</td>\n",
       "      <td>0</td>\n",
       "      <td>2</td>\n",
       "    </tr>\n",
       "    <tr>\n",
       "      <th>3</th>\n",
       "      <td>33</td>\n",
       "      <td>0</td>\n",
       "      <td>Travel_Frequently</td>\n",
       "      <td>1392</td>\n",
       "      <td>Research &amp; Development</td>\n",
       "      <td>3</td>\n",
       "      <td>4</td>\n",
       "      <td>Life Sciences</td>\n",
       "      <td>1</td>\n",
       "      <td>5</td>\n",
       "      <td>4</td>\n",
       "      <td>Female</td>\n",
       "      <td>56</td>\n",
       "      <td>3</td>\n",
       "      <td>1</td>\n",
       "      <td>Research Scientist</td>\n",
       "      <td>3</td>\n",
       "      <td>Married</td>\n",
       "      <td>2909</td>\n",
       "      <td>23159</td>\n",
       "      <td>1</td>\n",
       "      <td>Yes</td>\n",
       "      <td>11</td>\n",
       "      <td>3</td>\n",
       "      <td>3</td>\n",
       "      <td>0</td>\n",
       "      <td>8</td>\n",
       "      <td>3</td>\n",
       "      <td>3</td>\n",
       "      <td>8</td>\n",
       "      <td>7</td>\n",
       "      <td>3</td>\n",
       "      <td>0</td>\n",
       "      <td>3</td>\n",
       "    </tr>\n",
       "    <tr>\n",
       "      <th>4</th>\n",
       "      <td>27</td>\n",
       "      <td>0</td>\n",
       "      <td>Travel_Rarely</td>\n",
       "      <td>591</td>\n",
       "      <td>Research &amp; Development</td>\n",
       "      <td>2</td>\n",
       "      <td>1</td>\n",
       "      <td>Medical</td>\n",
       "      <td>1</td>\n",
       "      <td>7</td>\n",
       "      <td>1</td>\n",
       "      <td>Male</td>\n",
       "      <td>40</td>\n",
       "      <td>3</td>\n",
       "      <td>1</td>\n",
       "      <td>Laboratory Technician</td>\n",
       "      <td>2</td>\n",
       "      <td>Married</td>\n",
       "      <td>3468</td>\n",
       "      <td>16632</td>\n",
       "      <td>9</td>\n",
       "      <td>No</td>\n",
       "      <td>12</td>\n",
       "      <td>3</td>\n",
       "      <td>4</td>\n",
       "      <td>1</td>\n",
       "      <td>6</td>\n",
       "      <td>3</td>\n",
       "      <td>3</td>\n",
       "      <td>2</td>\n",
       "      <td>2</td>\n",
       "      <td>2</td>\n",
       "      <td>2</td>\n",
       "      <td>4</td>\n",
       "    </tr>\n",
       "    <tr>\n",
       "      <th>5</th>\n",
       "      <td>32</td>\n",
       "      <td>0</td>\n",
       "      <td>Travel_Frequently</td>\n",
       "      <td>1005</td>\n",
       "      <td>Research &amp; Development</td>\n",
       "      <td>2</td>\n",
       "      <td>2</td>\n",
       "      <td>Life Sciences</td>\n",
       "      <td>1</td>\n",
       "      <td>8</td>\n",
       "      <td>4</td>\n",
       "      <td>Male</td>\n",
       "      <td>79</td>\n",
       "      <td>3</td>\n",
       "      <td>1</td>\n",
       "      <td>Laboratory Technician</td>\n",
       "      <td>4</td>\n",
       "      <td>Single</td>\n",
       "      <td>3068</td>\n",
       "      <td>11864</td>\n",
       "      <td>0</td>\n",
       "      <td>No</td>\n",
       "      <td>13</td>\n",
       "      <td>3</td>\n",
       "      <td>3</td>\n",
       "      <td>0</td>\n",
       "      <td>8</td>\n",
       "      <td>2</td>\n",
       "      <td>2</td>\n",
       "      <td>7</td>\n",
       "      <td>7</td>\n",
       "      <td>3</td>\n",
       "      <td>6</td>\n",
       "      <td>5</td>\n",
       "    </tr>\n",
       "    <tr>\n",
       "      <th>6</th>\n",
       "      <td>59</td>\n",
       "      <td>0</td>\n",
       "      <td>Travel_Rarely</td>\n",
       "      <td>1324</td>\n",
       "      <td>Research &amp; Development</td>\n",
       "      <td>3</td>\n",
       "      <td>3</td>\n",
       "      <td>Medical</td>\n",
       "      <td>1</td>\n",
       "      <td>10</td>\n",
       "      <td>3</td>\n",
       "      <td>Female</td>\n",
       "      <td>81</td>\n",
       "      <td>4</td>\n",
       "      <td>1</td>\n",
       "      <td>Laboratory Technician</td>\n",
       "      <td>1</td>\n",
       "      <td>Married</td>\n",
       "      <td>2670</td>\n",
       "      <td>9964</td>\n",
       "      <td>4</td>\n",
       "      <td>Yes</td>\n",
       "      <td>20</td>\n",
       "      <td>4</td>\n",
       "      <td>1</td>\n",
       "      <td>3</td>\n",
       "      <td>12</td>\n",
       "      <td>3</td>\n",
       "      <td>2</td>\n",
       "      <td>1</td>\n",
       "      <td>0</td>\n",
       "      <td>0</td>\n",
       "      <td>0</td>\n",
       "      <td>6</td>\n",
       "    </tr>\n",
       "    <tr>\n",
       "      <th>7</th>\n",
       "      <td>30</td>\n",
       "      <td>0</td>\n",
       "      <td>Travel_Rarely</td>\n",
       "      <td>1358</td>\n",
       "      <td>Research &amp; Development</td>\n",
       "      <td>24</td>\n",
       "      <td>1</td>\n",
       "      <td>Life Sciences</td>\n",
       "      <td>1</td>\n",
       "      <td>11</td>\n",
       "      <td>4</td>\n",
       "      <td>Male</td>\n",
       "      <td>67</td>\n",
       "      <td>3</td>\n",
       "      <td>1</td>\n",
       "      <td>Laboratory Technician</td>\n",
       "      <td>3</td>\n",
       "      <td>Divorced</td>\n",
       "      <td>2693</td>\n",
       "      <td>13335</td>\n",
       "      <td>1</td>\n",
       "      <td>No</td>\n",
       "      <td>22</td>\n",
       "      <td>4</td>\n",
       "      <td>2</td>\n",
       "      <td>1</td>\n",
       "      <td>1</td>\n",
       "      <td>2</td>\n",
       "      <td>3</td>\n",
       "      <td>1</td>\n",
       "      <td>0</td>\n",
       "      <td>0</td>\n",
       "      <td>0</td>\n",
       "      <td>7</td>\n",
       "    </tr>\n",
       "    <tr>\n",
       "      <th>8</th>\n",
       "      <td>38</td>\n",
       "      <td>0</td>\n",
       "      <td>Travel_Frequently</td>\n",
       "      <td>216</td>\n",
       "      <td>Research &amp; Development</td>\n",
       "      <td>23</td>\n",
       "      <td>3</td>\n",
       "      <td>Life Sciences</td>\n",
       "      <td>1</td>\n",
       "      <td>12</td>\n",
       "      <td>4</td>\n",
       "      <td>Male</td>\n",
       "      <td>44</td>\n",
       "      <td>2</td>\n",
       "      <td>3</td>\n",
       "      <td>Manufacturing Director</td>\n",
       "      <td>3</td>\n",
       "      <td>Single</td>\n",
       "      <td>9526</td>\n",
       "      <td>8787</td>\n",
       "      <td>0</td>\n",
       "      <td>No</td>\n",
       "      <td>21</td>\n",
       "      <td>4</td>\n",
       "      <td>2</td>\n",
       "      <td>0</td>\n",
       "      <td>10</td>\n",
       "      <td>2</td>\n",
       "      <td>3</td>\n",
       "      <td>9</td>\n",
       "      <td>7</td>\n",
       "      <td>1</td>\n",
       "      <td>8</td>\n",
       "      <td>8</td>\n",
       "    </tr>\n",
       "    <tr>\n",
       "      <th>9</th>\n",
       "      <td>36</td>\n",
       "      <td>0</td>\n",
       "      <td>Travel_Rarely</td>\n",
       "      <td>1299</td>\n",
       "      <td>Research &amp; Development</td>\n",
       "      <td>27</td>\n",
       "      <td>3</td>\n",
       "      <td>Medical</td>\n",
       "      <td>1</td>\n",
       "      <td>13</td>\n",
       "      <td>3</td>\n",
       "      <td>Male</td>\n",
       "      <td>94</td>\n",
       "      <td>3</td>\n",
       "      <td>2</td>\n",
       "      <td>Healthcare Representative</td>\n",
       "      <td>3</td>\n",
       "      <td>Married</td>\n",
       "      <td>5237</td>\n",
       "      <td>16577</td>\n",
       "      <td>6</td>\n",
       "      <td>No</td>\n",
       "      <td>13</td>\n",
       "      <td>3</td>\n",
       "      <td>2</td>\n",
       "      <td>2</td>\n",
       "      <td>17</td>\n",
       "      <td>3</td>\n",
       "      <td>2</td>\n",
       "      <td>7</td>\n",
       "      <td>7</td>\n",
       "      <td>7</td>\n",
       "      <td>7</td>\n",
       "      <td>9</td>\n",
       "    </tr>\n",
       "  </tbody>\n",
       "</table>\n",
       "</div>"
      ],
      "text/plain": [
       "   Age  Attrition  ... YearsWithCurrManager  ID\n",
       "0   41          1  ...                    5   0\n",
       "1   49          0  ...                    7   1\n",
       "2   37          1  ...                    0   2\n",
       "3   33          0  ...                    0   3\n",
       "4   27          0  ...                    2   4\n",
       "5   32          0  ...                    6   5\n",
       "6   59          0  ...                    0   6\n",
       "7   30          0  ...                    0   7\n",
       "8   38          0  ...                    8   8\n",
       "9   36          0  ...                    7   9\n",
       "\n",
       "[10 rows x 34 columns]"
      ]
     },
     "execution_count": 3,
     "metadata": {
      "tags": []
     },
     "output_type": "execute_result"
    }
   ],
   "source": [
    "# Print the first ten rows of df\n",
    "df.head(10)"
   ]
  },
  {
   "cell_type": "markdown",
   "metadata": {
    "colab_type": "text",
    "id": "PSm-U7LEF5u_"
   },
   "source": [
    "### Using the dataframe ```df```, perform the following: \n",
    "\n",
    "* Print the first five rows of the column ```MonthlyRate```. \n",
    "* Find out the details of the column ```MonthlyRate``` like mean, maximum value, minimum value, etc. "
   ]
  },
  {
   "cell_type": "code",
   "execution_count": 0,
   "metadata": {
    "colab": {
     "base_uri": "https://localhost:8080/",
     "height": 196
    },
    "colab_type": "code",
    "executionInfo": {
     "elapsed": 4829,
     "status": "ok",
     "timestamp": 1587280440470,
     "user": {
      "displayName": "Soham Naha",
      "photoUrl": "",
      "userId": "16336359137283689663"
     },
     "user_tz": -330
    },
    "id": "QS5LttI-GT2f",
    "outputId": "0ec311d5-4fd8-4c14-b3bb-e9c2a418929a"
   },
   "outputs": [
    {
     "data": {
      "text/plain": [
       "0    19479\n",
       "1    24907\n",
       "2     2396\n",
       "3    23159\n",
       "4    16632\n",
       "5    11864\n",
       "6     9964\n",
       "7    13335\n",
       "8     8787\n",
       "9    16577\n",
       "Name: MonthlyRate, dtype: int64"
      ]
     },
     "execution_count": 4,
     "metadata": {
      "tags": []
     },
     "output_type": "execute_result"
    }
   ],
   "source": [
    "# Print the first five rows of MonthlyRate\n",
    "df['MonthlyRate'].head(10)"
   ]
  },
  {
   "cell_type": "code",
   "execution_count": 0,
   "metadata": {
    "colab": {
     "base_uri": "https://localhost:8080/",
     "height": 163
    },
    "colab_type": "code",
    "executionInfo": {
     "elapsed": 3210,
     "status": "ok",
     "timestamp": 1587280440473,
     "user": {
      "displayName": "Soham Naha",
      "photoUrl": "",
      "userId": "16336359137283689663"
     },
     "user_tz": -330
    },
    "id": "EzQ1a1M0GURm",
    "outputId": "bf54d089-b7b5-4cbd-9487-29de6a16c4b1"
   },
   "outputs": [
    {
     "data": {
      "text/plain": [
       "count     1028.000000\n",
       "mean     14243.531128\n",
       "std       7048.768076\n",
       "min       2094.000000\n",
       "25%       8259.750000\n",
       "50%      14074.500000\n",
       "75%      20342.250000\n",
       "max      26999.000000\n",
       "Name: MonthlyRate, dtype: float64"
      ]
     },
     "execution_count": 5,
     "metadata": {
      "tags": []
     },
     "output_type": "execute_result"
    }
   ],
   "source": [
    "# Find the details of MonthlyRate \n",
    "df['MonthlyRate'].describe()"
   ]
  },
  {
   "cell_type": "markdown",
   "metadata": {
    "colab_type": "text",
    "id": "3h-YOTvPQI48"
   },
   "source": [
    "---\n",
    "## Part 2 - Cleaning and manipulating data \n",
    "---"
   ]
  },
  {
   "cell_type": "markdown",
   "metadata": {
    "colab_type": "text",
    "id": "EtLzBibsQfXu"
   },
   "source": [
    "### Using the dataframe ```df```, peform the following:\n",
    "\n",
    "* Check whether there are any missing values in ```df```. \n",
    "* If yes, drop those values and print the size of ```df``` after dropping these. "
   ]
  },
  {
   "cell_type": "code",
   "execution_count": 0,
   "metadata": {
    "colab": {
     "base_uri": "https://localhost:8080/",
     "height": 212
    },
    "colab_type": "code",
    "executionInfo": {
     "elapsed": 2525,
     "status": "ok",
     "timestamp": 1587280441407,
     "user": {
      "displayName": "Soham Naha",
      "photoUrl": "",
      "userId": "16336359137283689663"
     },
     "user_tz": -330
    },
    "id": "XG-UK53fRDRZ",
    "outputId": "73c88ceb-752e-445e-cf64-c106dadcc9f9"
   },
   "outputs": [
    {
     "name": "stdout",
     "output_type": "stream",
     "text": [
      "<bound method DataFrame.all of                Age    Attrition  ...  YearsWithCurrManager           ID\n",
      "count  1028.000000  1028.000000  ...           1028.000000  1028.000000\n",
      "mean     36.999027     0.167315  ...              4.141051   513.500000\n",
      "std       9.444297     0.373439  ...              3.608460   296.902341\n",
      "min      18.000000     0.000000  ...              0.000000     0.000000\n",
      "25%      30.000000     0.000000  ...              2.000000   256.750000\n",
      "50%      36.000000     0.000000  ...              3.000000   513.500000\n",
      "75%      43.000000     0.000000  ...              7.000000   770.250000\n",
      "max      60.000000     1.000000  ...             17.000000  1027.000000\n",
      "\n",
      "[8 rows x 27 columns]>\n",
      "Size of the Dataset :  (1028, 34)\n"
     ]
    }
   ],
   "source": [
    "# Check for missing values \n",
    "print(df.describe().all)\n",
    "# Drop the missing values \n",
    "df.dropna(inplace=True)\n",
    "# Print the size of df after dropping \n",
    "print(\"Size of the Dataset : \",df.shape)"
   ]
  },
  {
   "cell_type": "markdown",
   "metadata": {
    "colab_type": "text",
    "id": "qtoGcl2XRWnS"
   },
   "source": [
    "### Using the dataframe ```df```, peform the following:\n",
    "\n",
    "* Add another column named ```MonthRateNew``` in ```df``` by subtracting the mean from ```MonthlyRate``` and dividing it by standard deviation. "
   ]
  },
  {
   "cell_type": "code",
   "execution_count": 0,
   "metadata": {
    "colab": {
     "base_uri": "https://localhost:8080/",
     "height": 115
    },
    "colab_type": "code",
    "executionInfo": {
     "elapsed": 2020,
     "status": "ok",
     "timestamp": 1587280441409,
     "user": {
      "displayName": "Soham Naha",
      "photoUrl": "",
      "userId": "16336359137283689663"
     },
     "user_tz": -330
    },
    "id": "zDMncSUKR12P",
    "outputId": "1d5e3538-92b9-4f1a-a932-8a60121f8ae2"
   },
   "outputs": [
    {
     "data": {
      "text/plain": [
       "0    0.742749\n",
       "1    1.512813\n",
       "2   -1.680795\n",
       "3    1.264827\n",
       "4    0.338849\n",
       "Name: MonthlyRateNew, dtype: float64"
      ]
     },
     "execution_count": 7,
     "metadata": {
      "tags": []
     },
     "output_type": "execute_result"
    }
   ],
   "source": [
    "# Add a column named MonthRateNew \n",
    "x = (df['MonthlyRate']-df['MonthlyRate'].mean())/df['MonthlyRate'].std()\n",
    "df['MonthlyRateNew'] = x\n",
    "df['MonthlyRateNew'].head(5)"
   ]
  },
  {
   "cell_type": "markdown",
   "metadata": {
    "colab_type": "text",
    "id": "pcbN7jep13og"
   },
   "source": [
    "### Using the dataframe ```movies```, perform the following: \n",
    "\n",
    "* Check whether there are any missing values in ```movies```. \n",
    "* Find out the number of observations/rows having any of their features/columns missing. \n",
    "* Drop the missing values and print the size of ```movies``` after dropping these. \n",
    "* Instead of dropping the missing values, replace the missing values by their mean (or some suitable value). \n"
   ]
  },
  {
   "cell_type": "code",
   "execution_count": 0,
   "metadata": {
    "colab": {
     "base_uri": "https://localhost:8080/",
     "height": 33
    },
    "colab_type": "code",
    "executionInfo": {
     "elapsed": 1530,
     "status": "ok",
     "timestamp": 1587280442043,
     "user": {
      "displayName": "Soham Naha",
      "photoUrl": "",
      "userId": "16336359137283689663"
     },
     "user_tz": -330
    },
    "id": "DNszBx8A14ai",
    "outputId": "c8d70a22-01aa-4e31-d7b3-a170144f296d"
   },
   "outputs": [
    {
     "name": "stdout",
     "output_type": "stream",
     "text": [
      "Number of missing values for Movies :  73\n"
     ]
    }
   ],
   "source": [
    "# Check for missing values \n",
    "movies_isnull = movies.isnull()\n",
    "# Drop the missing values \n",
    "print(\"Number of missing values for Movies : \",sum(movies_isnull.sum()))\n",
    "movies.dropna(inplace=True)\n",
    "# Replace the missing values \n",
    "# You can use SimpleImputer of sklearn for this"
   ]
  },
  {
   "cell_type": "markdown",
   "metadata": {
    "colab_type": "text",
    "id": "qDr11sjlBk_W"
   },
   "source": [
    "---\n",
    "## Part 3 - Visualizing data \n",
    "---"
   ]
  },
  {
   "cell_type": "markdown",
   "metadata": {
    "colab_type": "text",
    "id": "wC_w1zNCBw2G"
   },
   "source": [
    "### Visualize the ```df``` by drawing the following plots:\n",
    "\n",
    "* Plot a histogram of ```Age``` and find the range in which most people are there. \n",
    "* Modify the histogram of ```Age``` by adding 30 bins. \n",
    "* Draw a scatter plot between ```Age``` and ```Attrition``` and suitable labels to the axes. Find out whether people more than 50 years are more likely to leave the company. (```Attrition``` = 1 means people have left the company). "
   ]
  },
  {
   "cell_type": "code",
   "execution_count": 0,
   "metadata": {
    "colab": {
     "base_uri": "https://localhost:8080/",
     "height": 588
    },
    "colab_type": "code",
    "executionInfo": {
     "elapsed": 2708,
     "status": "ok",
     "timestamp": 1587280444022,
     "user": {
      "displayName": "Soham Naha",
      "photoUrl": "",
      "userId": "16336359137283689663"
     },
     "user_tz": -330
    },
    "id": "645EwAsoH63i",
    "outputId": "3abf0629-fef9-4c74-dc5b-cce0b592aaa7"
   },
   "outputs": [
    {
     "data": {
      "text/plain": [
       "(Text(0.5, 0, 'Age'), Text(0, 0.5, 'Attrition'))"
      ]
     },
     "execution_count": 9,
     "metadata": {
      "tags": []
     },
     "output_type": "execute_result"
    },
    {
     "data": {
      "image/png": "[encoded data removed]",
      "text/plain": [
       "<Figure size 432x288 with 2 Axes>"
      ]
     },
     "metadata": {
      "needs_background": "light",
      "tags": []
     },
     "output_type": "display_data"
    },
    {
     "data": {
      "image/png": "[encoded data removed]",
      "text/plain": [
       "<Figure size 432x288 with 1 Axes>"
      ]
     },
     "metadata": {
      "needs_background": "light",
      "tags": []
     },
     "output_type": "display_data"
    }
   ],
   "source": [
    "# Plot and modify the histogram of Age\n",
    "plt.figure()\n",
    "plt.subplot(121)\n",
    "plt.hist(df['Age'])\n",
    "plt.title('Histogram of Age')\n",
    "plt.xlabel(\"Age\"),plt.ylabel(\"Counts\")\n",
    "plt.subplot(122)\n",
    "plt.hist(df['Age'],bins=30)\n",
    "plt.xlabel(\"Age\"),plt.ylabel(\"Counts\")\n",
    "plt.title('Histogram of Age with 30 bins')\n",
    "# Draw a scatter plot between Age and Attrition\n",
    "plt.figure()\n",
    "plt.scatter(df[\"Age\"],df[\"Attrition\"])\n",
    "plt.title(\"Scatter plot between Age and Attrition\")\n",
    "plt.xlabel(\"Age\"),plt.ylabel(\"Attrition\")"
   ]
  },
  {
   "cell_type": "markdown",
   "metadata": {
    "colab_type": "text",
    "id": "YoHZDMmoRxE5"
   },
   "source": [
    "<li>The Histogram shows that most of the people are between Age 30-40 years.</li>\n",
    "<li>The scatter plot of Age vs Attrition shows that people of Age > 50 are less likely to leave the company.</li>"
   ]
  },
  {
   "cell_type": "markdown",
   "metadata": {
    "colab_type": "text",
    "id": "eez_pkZ-HDKP"
   },
   "source": [
    "### Visualize the ```df``` by following the steps given below:\n",
    "\n",
    "* Get a series containing counts of unique values of ```Attrition```.\n",
    "* Draw a countplot for ```Attrition``` using ```sns.countplot()```. "
   ]
  },
  {
   "cell_type": "code",
   "execution_count": 0,
   "metadata": {
    "colab": {
     "base_uri": "https://localhost:8080/",
     "height": 360
    },
    "colab_type": "code",
    "executionInfo": {
     "elapsed": 2003,
     "status": "ok",
     "timestamp": 1587280444027,
     "user": {
      "displayName": "Soham Naha",
      "photoUrl": "",
      "userId": "16336359137283689663"
     },
     "user_tz": -330
    },
    "id": "Tp8LnxLWIPfk",
    "outputId": "d5e7f951-4c16-4ff6-87ef-2f1fb12c07ac"
   },
   "outputs": [
    {
     "name": "stdout",
     "output_type": "stream",
     "text": [
      "Value counts for Attrition data :\n",
      "0    856\n",
      "1    172\n",
      "Name: Attrition, dtype: int64\n"
     ]
    },
    {
     "data": {
      "text/plain": [
       "<matplotlib.axes._subplots.AxesSubplot at 0x7f798bad5240>"
      ]
     },
     "execution_count": 10,
     "metadata": {
      "tags": []
     },
     "output_type": "execute_result"
    },
    {
     "data": {
      "image/png": "[encoded data removed]",
      "text/plain": [
       "<Figure size 432x288 with 1 Axes>"
      ]
     },
     "metadata": {
      "needs_background": "light",
      "tags": []
     },
     "output_type": "display_data"
    }
   ],
   "source": [
    "# Get a series of counts of values of Attrition\n",
    "print(\"Value counts for Attrition data :\")\n",
    "print(df[\"Attrition\"].value_counts())\n",
    "\n",
    "# Draw a countplot for Attrition \n",
    "# You may use countplot of seaborn for this \n",
    "plt.figure()\n",
    "sns.countplot(df[\"Attrition\"])"
   ]
  },
  {
   "cell_type": "markdown",
   "metadata": {
    "colab_type": "text",
    "id": "Vi01m9MBHaJD"
   },
   "source": [
    "### Visualize the ```df``` by following the steps given below:\n",
    "\n",
    "* Draw a cross tabulation of ```Attrition``` and ```BusinessTravel``` as bar charts. Find which value of ```BusinessTravel``` has highest number of people."
   ]
  },
  {
   "cell_type": "code",
   "execution_count": 0,
   "metadata": {
    "colab": {
     "base_uri": "https://localhost:8080/",
     "height": 292
    },
    "colab_type": "code",
    "executionInfo": {
     "elapsed": 2668,
     "status": "ok",
     "timestamp": 1587280445665,
     "user": {
      "displayName": "Soham Naha",
      "photoUrl": "",
      "userId": "16336359137283689663"
     },
     "user_tz": -330
    },
    "id": "5OHAeOqeIQVM",
    "outputId": "0ebceb84-7632-4b2f-cb92-7a14de24b183"
   },
   "outputs": [
    {
     "data": {
      "text/plain": [
       "<matplotlib.axes._subplots.AxesSubplot at 0x7f7987c250f0>"
      ]
     },
     "execution_count": 11,
     "metadata": {
      "tags": []
     },
     "output_type": "execute_result"
    },
    {
     "data": {
      "image/png": "[encoded data removed]",
      "text/plain": [
       "<Figure size 432x288 with 1 Axes>"
      ]
     },
     "metadata": {
      "needs_background": "light",
      "tags": []
     },
     "output_type": "display_data"
    }
   ],
   "source": [
    "# Draw a cross tab of Attritiona and BusinessTravel \n",
    "# You may use crosstab of pandas for this \n",
    "pd.crosstab(df[\"Attrition\"],df[\"BusinessTravel\"]).plot.bar(stacked=True)"
   ]
  },
  {
   "cell_type": "markdown",
   "metadata": {
    "colab_type": "text",
    "id": "8hT3vgiMRxFF"
   },
   "source": [
    "Most of the poeple Travel_Rarely in Business Travel."
   ]
  },
  {
   "cell_type": "markdown",
   "metadata": {
    "colab_type": "text",
    "id": "1FCc9ZkUHfqL"
   },
   "source": [
    "### Visualize the ```df``` by drawing the following plot:\n",
    "\n",
    "* Draw a stacked bar chart between ```Attrition``` and ```Gender``` columns. "
   ]
  },
  {
   "cell_type": "code",
   "execution_count": 0,
   "metadata": {
    "colab": {
     "base_uri": "https://localhost:8080/",
     "height": 292
    },
    "colab_type": "code",
    "executionInfo": {
     "elapsed": 2727,
     "status": "ok",
     "timestamp": 1587280446689,
     "user": {
      "displayName": "Soham Naha",
      "photoUrl": "",
      "userId": "16336359137283689663"
     },
     "user_tz": -330
    },
    "id": "58ELSAXBIQST",
    "outputId": "e3617d9d-cbb2-4995-97bc-3a0e4914c796"
   },
   "outputs": [
    {
     "data": {
      "text/plain": [
       "<matplotlib.axes._subplots.AxesSubplot at 0x7f7987c11ba8>"
      ]
     },
     "execution_count": 12,
     "metadata": {
      "tags": []
     },
     "output_type": "execute_result"
    },
    {
     "data": {
      "image/png": "[encoded data removed]",
      "text/plain": [
       "<Figure size 432x288 with 1 Axes>"
      ]
     },
     "metadata": {
      "needs_background": "light",
      "tags": []
     },
     "output_type": "display_data"
    }
   ],
   "source": [
    "# Draw a stacked bar chart between Attrition and Gender \n",
    "pd.crosstab(df[\"Attrition\"],df[\"Gender\"]).plot.bar(stacked=True)"
   ]
  },
  {
   "cell_type": "markdown",
   "metadata": {
    "colab_type": "text",
    "id": "vZzsi8_QLEdq"
   },
   "source": [
    "### Visualize the ```df``` by drawing the following histogram:\n",
    "\n",
    "* Draw a histogram of ```TotalWorkingYears``` with 30 bins. \n",
    "* Draw a histogram of ```YearsAtCompany``` with 30 bins and find whether the values in ```YearsAtCompany``` are skewed. "
   ]
  },
  {
   "cell_type": "code",
   "execution_count": 0,
   "metadata": {
    "colab": {
     "base_uri": "https://localhost:8080/",
     "height": 557
    },
    "colab_type": "code",
    "executionInfo": {
     "elapsed": 5244,
     "status": "ok",
     "timestamp": 1587280449786,
     "user": {
      "displayName": "Soham Naha",
      "photoUrl": "",
      "userId": "16336359137283689663"
     },
     "user_tz": -330
    },
    "id": "zvSlfj3FLUvV",
    "outputId": "e12ed845-461d-4969-d7e7-3716df2a0d40"
   },
   "outputs": [
    {
     "data": {
      "text/plain": [
       "(Text(0.5, 0, 'Years at Company'), Text(0, 0.5, 'Count'))"
      ]
     },
     "execution_count": 13,
     "metadata": {
      "tags": []
     },
     "output_type": "execute_result"
    },
    {
     "data": {
      "image/png": "[encoded data removed]",
      "text/plain": [
       "<Figure size 432x288 with 1 Axes>"
      ]
     },
     "metadata": {
      "needs_background": "light",
      "tags": []
     },
     "output_type": "display_data"
    },
    {
     "data": {
      "image/png": "[encoded data removed]",
      "text/plain": [
       "<Figure size 432x288 with 1 Axes>"
      ]
     },
     "metadata": {
      "needs_background": "light",
      "tags": []
     },
     "output_type": "display_data"
    }
   ],
   "source": [
    "# Draw a histogram of TotalWorkingYears with 30 bins\n",
    "plt.figure()\n",
    "plt.hist(df[\"TotalWorkingYears\"],bins=30)\n",
    "plt.xlabel(\"Total Working Years\"),plt.ylabel(\"Count\")\n",
    "# Draw a histogram of YearsAtCompany\n",
    "plt.figure()\n",
    "plt.hist(df[\"YearsAtCompany\"],bins=30)\n",
    "plt.xlabel(\"Years at Company\"),plt.ylabel(\"Count\")"
   ]
  },
  {
   "cell_type": "markdown",
   "metadata": {
    "colab_type": "text",
    "id": "-hZqFR-LRxFS"
   },
   "source": [
    "So, from the Histogram of \"Years at Company\" , it is clear that the values are skewed."
   ]
  },
  {
   "cell_type": "markdown",
   "metadata": {
    "colab_type": "text",
    "id": "oBcsFqz-Moja"
   },
   "source": [
    "### Visualize the ```df``` by drawing the following boxplot:\n",
    "\n",
    "* Draw a boxplot of ```MonthlyIncome``` for each ```Department``` and report whether there is/are outlier(s). \n"
   ]
  },
  {
   "cell_type": "code",
   "execution_count": 0,
   "metadata": {
    "colab": {
     "base_uri": "https://localhost:8080/",
     "height": 377
    },
    "colab_type": "code",
    "executionInfo": {
     "elapsed": 3238,
     "status": "ok",
     "timestamp": 1587280449793,
     "user": {
      "displayName": "Soham Naha",
      "photoUrl": "",
      "userId": "16336359137283689663"
     },
     "user_tz": -330
    },
    "id": "S6zsSE65NED9",
    "outputId": "c9ea76b4-5e28-4cab-a591-71b689b59d41"
   },
   "outputs": [
    {
     "name": "stdout",
     "output_type": "stream",
     "text": [
      "There are a lot of outliers.\n"
     ]
    },
    {
     "data": {
      "image/png": "[encoded data removed]",
      "text/plain": [
       "<Figure size 360x360 with 1 Axes>"
      ]
     },
     "metadata": {
      "needs_background": "light",
      "tags": []
     },
     "output_type": "display_data"
    }
   ],
   "source": [
    "# Draw a boxplot of MonthlyIncome for each Department and report outliers \n",
    "df[[\"MonthlyIncome\",\"Department\"]].boxplot(by=\"Department\",figsize=(8,8))\n",
    "print(\"There are a lot of outliers.\")"
   ]
  },
  {
   "cell_type": "markdown",
   "metadata": {
    "colab_type": "text",
    "id": "NRPgJjp-NX07"
   },
   "source": [
    "### Visualize the ```df``` by drawing the following piechart:\n",
    "\n",
    "* Create a pie chart of the values in ```JobRole``` with suitable label and report which role has highest number of persons. "
   ]
  },
  {
   "cell_type": "code",
   "execution_count": 0,
   "metadata": {
    "colab": {
     "base_uri": "https://localhost:8080/",
     "height": 373
    },
    "colab_type": "code",
    "executionInfo": {
     "elapsed": 3861,
     "status": "ok",
     "timestamp": 1587280450512,
     "user": {
      "displayName": "Soham Naha",
      "photoUrl": "",
      "userId": "16336359137283689663"
     },
     "user_tz": -330
    },
    "id": "5pr2HVVGNlaV",
    "outputId": "abd53cc3-b50b-4f88-a2b7-59e86961c6e5"
   },
   "outputs": [
    {
     "name": "stdout",
     "output_type": "stream",
     "text": [
      "Most people are in the JobRole of Research Scientist.\n"
     ]
    },
    {
     "data": {
      "image/png": "[encoded data removed]",
      "text/plain": [
       "<Figure size 432x432 with 1 Axes>"
      ]
     },
     "metadata": {
      "tags": []
     },
     "output_type": "display_data"
    }
   ],
   "source": [
    "# Create a piechart of JobRole \n",
    "# You will need to find the counts of unique values in JobRole. \n",
    "pie = df[\"JobRole\"].value_counts()\n",
    "pie.plot.pie(figsize=(6,6))\n",
    "print(\"Most people are in the JobRole of Research Scientist.\")"
   ]
  }
 ],
 "metadata": {
  "colab": {
   "collapsed_sections": [],
   "name": "soham_naha_assign2.ipynb",
   "provenance": []
  },
  "kernelspec": {
   "display_name": "Python 3",
   "language": "python",
   "name": "python3"
  },
  "language_info": {
   "codemirror_mode": {
    "name": "ipython",
    "version": 3
   },
   "file_extension": ".py",
   "mimetype": "text/x-python",
   "name": "python",
   "nbconvert_exporter": "python",
   "pygments_lexer": "ipython3",
   "version": "3.8.2"
  }
 },
 "nbformat": 4,
 "nbformat_minor": 1
}
