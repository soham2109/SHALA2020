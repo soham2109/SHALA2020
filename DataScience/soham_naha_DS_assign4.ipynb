{
 "cells": [
  {
   "cell_type": "markdown",
   "metadata": {
    "colab_type": "text",
    "id": "NVMUAJt8gzbA"
   },
   "source": [
    "# MLE and Hypothesis Testing"
   ]
  },
  {
   "cell_type": "markdown",
   "metadata": {
    "colab_type": "text",
    "id": "d1-kEc8hXx3N"
   },
   "source": [
    "### Read the given csv file [```q4.csv```](https://raw.githubusercontent.com/Ipsit1234/SHALA/master/q4.csv) of samples. Assume that it is drawn from a exponential distribution. What is the difference of log likelihoods for $\\lambda = 1$ and $\\lambda = 2$ ? Which of the two is more strongly supported?"
   ]
  },
  {
   "cell_type": "code",
   "execution_count": 1,
   "metadata": {
    "colab": {
     "base_uri": "https://localhost:8080/",
     "height": 72
    },
    "colab_type": "code",
    "executionInfo": {
     "elapsed": 1829,
     "status": "ok",
     "timestamp": 1587735454311,
     "user": {
      "displayName": "Soham Naha",
      "photoUrl": "",
      "userId": "16336359137283689663"
     },
     "user_tz": -330
    },
    "id": "DHfUkvD3KcNN",
    "outputId": "0e6a3291-b43c-49be-b89c-ecbc09ae2a64"
   },
   "outputs": [
    {
     "name": "stderr",
     "output_type": "stream",
     "text": [
      "/usr/local/lib/python3.6/dist-packages/statsmodels/tools/_testing.py:19: FutureWarning: pandas.util.testing is deprecated. Use the functions in the public API at pandas.testing instead.\n",
      "  import pandas.util.testing as tm\n"
     ]
    }
   ],
   "source": [
    "import numpy as np\n",
    "import pandas as pd\n",
    "import scipy.stats as st\n",
    "from matplotlib import pyplot as plt\n",
    "import seaborn as sns"
   ]
  },
  {
   "cell_type": "code",
   "execution_count": 2,
   "metadata": {
    "colab": {
     "base_uri": "https://localhost:8080/",
     "height": 298
    },
    "colab_type": "code",
    "executionInfo": {
     "elapsed": 2459,
     "status": "ok",
     "timestamp": 1587735454986,
     "user": {
      "displayName": "Soham Naha",
      "photoUrl": "",
      "userId": "16336359137283689663"
     },
     "user_tz": -330
    },
    "id": "UAphR126LEwa",
    "outputId": "fad8ab2e-6a6e-4c9f-f7c1-7ceb1606286d"
   },
   "outputs": [
    {
     "data": {
      "text/plain": [
       "<matplotlib.axes._subplots.AxesSubplot at 0x7f3a26bfa630>"
      ]
     },
     "execution_count": 2,
     "metadata": {
      "tags": []
     },
     "output_type": "execute_result"
    },
    {
     "data": {
      "image/png": "[encoded data removed]",
      "text/plain": [
       "<Figure size 432x288 with 1 Axes>"
      ]
     },
     "metadata": {
      "needs_background": "light",
      "tags": []
     },
     "output_type": "display_data"
    }
   ],
   "source": [
    "url = 'https://raw.githubusercontent.com/Ipsit1234/SHALA/master/q4.csv'\n",
    "data = pd.read_csv(url,header=None)\n",
    "sns.distplot(data[1])"
   ]
  },
  {
   "cell_type": "markdown",
   "metadata": {
    "colab_type": "text",
    "id": "nDpo9jpidQHk"
   },
   "source": [
    "# PDF of exponential distribution is $\\lambda e^{-\\lambda x}$\n",
    "Define a function to find pdf. You can use any module to get pre-defined functions also. And then find the likelihood and log-likelihood"
   ]
  },
  {
   "cell_type": "code",
   "execution_count": 4,
   "metadata": {
    "colab": {
     "base_uri": "https://localhost:8080/",
     "height": 34
    },
    "colab_type": "code",
    "executionInfo": {
     "elapsed": 1992,
     "status": "ok",
     "timestamp": 1587735454995,
     "user": {
      "displayName": "Soham Naha",
      "photoUrl": "",
      "userId": "16336359137283689663"
     },
     "user_tz": -330
    },
    "id": "Hio8uXrtLjl7",
    "outputId": "6936a3ab-0117-499d-af9c-d313773f17ff"
   },
   "outputs": [
    {
     "name": "stdout",
     "output_type": "stream",
     "text": [
      "LogLikelihood for lambda=2 - LogLikelihood for lambda=1 =  20.366416970604863\n"
     ]
    }
   ],
   "source": [
    "lambda_ = lambda x, lamb: lamb*np.exp(-lamb*x)\n",
    "lambda_1 = lambda_(data[1],1)\n",
    "lambda_2 = lambda_(data[1],2)\n",
    "log_like_1, log_like_2 = 0, 0 \n",
    "for i,j in zip(lambda_1,lambda_2):\n",
    "    log_like_1 += np.log(i)\n",
    "    log_like_2 += np.log(j)\n",
    "print(\"LogLikelihood for lambda=2 - LogLikelihood for lambda=1 = \",log_like_2-log_like_1)"
   ]
  },
  {
   "cell_type": "markdown",
   "metadata": {
    "colab_type": "text",
    "id": "q214ixOGeR35"
   },
   "source": [
    "### Read the csv files [```q4_1.csv```](https://raw.githubusercontent.com/Ipsit1234/SHALA/master/q4_1.csv) and [```q4_2.csv```](https://raw.githubusercontent.com/Ipsit1234/SHALA/master/q4_2.csv) to get samples from two unknown distributions. Choose a significance level and implement the the most general two-sample t-test"
   ]
  },
  {
   "cell_type": "code",
   "execution_count": 0,
   "metadata": {
    "colab": {},
    "colab_type": "code",
    "id": "bAsMqWiGdb52"
   },
   "outputs": [],
   "source": [
    "sample1 = pd.read_csv('https://raw.githubusercontent.com/Ipsit1234/SHALA/master/q4_1.csv',header=None)\n",
    "sample2 = pd.read_csv('https://raw.githubusercontent.com/Ipsit1234/SHALA/master/q4_2.csv',header=None)"
   ]
  },
  {
   "cell_type": "markdown",
   "metadata": {
    "colab_type": "text",
    "id": "yIvOH3yWiTU9"
   },
   "source": [
    "Find the parameters required to compute the T statistic"
   ]
  },
  {
   "cell_type": "code",
   "execution_count": 0,
   "metadata": {
    "colab": {},
    "colab_type": "code",
    "id": "_3TBrHZifG2u"
   },
   "outputs": [],
   "source": [
    "significance = 0.5\n",
    "mu1,mu2 = np.mean(sample1[1]),np.mean(sample2[1])\n",
    "sigma1,sigma2 = np.var(sample1[1]),np.var(sample2[1])\n",
    "n1,n2 = sample1.shape[0],sample2.shape[0]"
   ]
  },
  {
   "cell_type": "markdown",
   "metadata": {
    "colab_type": "text",
    "id": "3i3gxyQziXD5"
   },
   "source": [
    "Find the degrees of freedom to get the critical value"
   ]
  },
  {
   "cell_type": "code",
   "execution_count": 6,
   "metadata": {
    "colab": {
     "base_uri": "https://localhost:8080/",
     "height": 34
    },
    "colab_type": "code",
    "executionInfo": {
     "elapsed": 1392,
     "status": "ok",
     "timestamp": 1587735455005,
     "user": {
      "displayName": "Soham Naha",
      "photoUrl": "",
      "userId": "16336359137283689663"
     },
     "user_tz": -330
    },
    "id": "p4Hx9UL3flF8",
    "outputId": "95882498-a85e-4871-8408-1935a8736c5a"
   },
   "outputs": [
    {
     "name": "stdout",
     "output_type": "stream",
     "text": [
      "Degrees of Freedom :  146.69795658507294\n"
     ]
    }
   ],
   "source": [
    "deg_free = np.square(sigma1/n1 + sigma2/n2)/((sigma1/n1)**2/(n1-1)+(sigma2/n2)**2/(n2-1))\n",
    "print(\"Degrees of Freedom : \",deg_free)"
   ]
  },
  {
   "cell_type": "markdown",
   "metadata": {
    "colab_type": "text",
    "id": "nyai_S1zihfm"
   },
   "source": [
    "Compare the critical value and the T statistic and conclude whether null hypothesis is accepted or not. Print 'YES' is it is rejected, otherwise print 'NO'."
   ]
  },
  {
   "cell_type": "code",
   "execution_count": 7,
   "metadata": {
    "colab": {
     "base_uri": "https://localhost:8080/",
     "height": 34
    },
    "colab_type": "code",
    "executionInfo": {
     "elapsed": 1378,
     "status": "ok",
     "timestamp": 1587735455010,
     "user": {
      "displayName": "Soham Naha",
      "photoUrl": "",
      "userId": "16336359137283689663"
     },
     "user_tz": -330
    },
    "id": "ST8J42mAfn0R",
    "outputId": "4fda8c4e-d03e-4d16-d8e0-95503dc8ebbc"
   },
   "outputs": [
    {
     "name": "stdout",
     "output_type": "stream",
     "text": [
      "YES\n"
     ]
    }
   ],
   "source": [
    "T = (mu1 - mu2)/np.sqrt((sigma1/n1) + (sigma2/n2))\n",
    "critical_value = st.t.pdf((1-significance)/2,deg_free)\n",
    "if abs(T) > critical_value:\n",
    "    print(\"YES\")\n",
    "else:\n",
    "     print(\"NO\")   "
   ]
  },
  {
   "cell_type": "markdown",
   "metadata": {
    "colab_type": "text",
    "id": "SrOP9BwSiwVc"
   },
   "source": [
    "Plot the distribution of both the samples to visualize"
   ]
  },
  {
   "cell_type": "code",
   "execution_count": 8,
   "metadata": {
    "colab": {
     "base_uri": "https://localhost:8080/",
     "height": 265
    },
    "colab_type": "code",
    "executionInfo": {
     "elapsed": 2162,
     "status": "ok",
     "timestamp": 1587735455819,
     "user": {
      "displayName": "Soham Naha",
      "photoUrl": "",
      "userId": "16336359137283689663"
     },
     "user_tz": -330
    },
    "id": "omfVDZqxfyAM",
    "outputId": "1b5f80f1-93bf-45a7-ffbc-6a98a0b980f1"
   },
   "outputs": [
    {
     "data": {
      "image/png": "[encoded data removed]",
      "text/plain": [
       "<Figure size 432x288 with 1 Axes>"
      ]
     },
     "metadata": {
      "needs_background": "light",
      "tags": []
     },
     "output_type": "display_data"
    }
   ],
   "source": [
    "sns.distplot(sample1[1].values)\n",
    "sns.distplot(sample2[1].values)\n",
    "plt.legend(['first sample','second sample'])\n",
    "plt.show()"
   ]
  },
  {
   "cell_type": "code",
   "execution_count": 0,
   "metadata": {
    "colab": {},
    "colab_type": "code",
    "id": "Z-5ammelgOnA"
   },
   "outputs": [],
   "source": []
  }
 ],
 "metadata": {
  "colab": {
   "collapsed_sections": [],
   "name": "soham_naha_assign4.ipynb",
   "provenance": []
  },
  "kernelspec": {
   "display_name": "Python 3",
   "language": "python",
   "name": "python3"
  },
  "language_info": {
   "codemirror_mode": {
    "name": "ipython",
    "version": 3
   },
   "file_extension": ".py",
   "mimetype": "text/x-python",
   "name": "python",
   "nbconvert_exporter": "python",
   "pygments_lexer": "ipython3",
   "version": "3.8.2"
  }
 },
 "nbformat": 4,
 "nbformat_minor": 1
}
