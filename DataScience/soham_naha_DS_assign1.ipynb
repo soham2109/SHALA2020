{
 "cells": [
  {
   "cell_type": "markdown",
   "metadata": {
    "colab_type": "text",
    "id": "hmr2U-GChnlR"
   },
   "source": [
    "\n",
    "# **Assignment - 1 : Getting Started**\n",
    "\n",
    "---\n",
    "\n",
    "This assignment will get you familiarized with python libraries required for ***data science*** and ***machine learning***. You will have to complete the code snippets and run them. "
   ]
  },
  {
   "cell_type": "markdown",
   "metadata": {
    "colab_type": "text",
    "id": "211pD45xEO0u"
   },
   "source": [
    "## **Note :**   Use only the methods and attributes of the ```numpy``` library. **Do not** hard-code them. Avoid loops as much as possible."
   ]
  },
  {
   "cell_type": "markdown",
   "metadata": {
    "colab_type": "text",
    "id": "O7v9C4mun3SQ"
   },
   "source": [
    "---\n",
    "## Part - 1\n",
    " In this part, you will work with the library ```numpy```. \n",
    "\n",
    "\n"
   ]
  },
  {
   "cell_type": "markdown",
   "metadata": {
    "colab_type": "text",
    "id": "846yDaXQwiMD"
   },
   "source": [
    "Import ```numpy``` with an alias name ```np```. Initialize two arrays $a$, $b$ of size $3 \\times 5$ with random values and print them. "
   ]
  },
  {
   "cell_type": "code",
   "execution_count": 1,
   "metadata": {
    "colab": {
     "base_uri": "https://localhost:8080/",
     "height": 173
    },
    "colab_type": "code",
    "executionInfo": {
     "elapsed": 2000,
     "status": "ok",
     "timestamp": 1587129599820,
     "user": {
      "displayName": "Soham Naha",
      "photoUrl": "",
      "userId": "16336359137283689663"
     },
     "user_tz": -330
    },
    "id": "_MyeCO3_o3oq",
    "outputId": "8644b550-ea61-4cbb-a94b-8c8ce1fe1367"
   },
   "outputs": [
    {
     "name": "stdout",
     "output_type": "stream",
     "text": [
      "A : \n",
      " [[0.5488135  0.71518937 0.60276338 0.54488318 0.4236548 ]\n",
      " [0.64589411 0.43758721 0.891773   0.96366276 0.38344152]\n",
      " [0.79172504 0.52889492 0.56804456 0.92559664 0.07103606]]\n",
      "\n",
      "B : \n",
      " [[0.0871293  0.0202184  0.83261985 0.77815675 0.87001215]\n",
      " [0.97861834 0.79915856 0.46147936 0.78052918 0.11827443]\n",
      " [0.63992102 0.14335329 0.94466892 0.52184832 0.41466194]]\n"
     ]
    }
   ],
   "source": [
    "import numpy as np\n",
    "np.random.seed(0)\n",
    "a = np.random.rand(3,5)\n",
    "b = np.random.rand(3,5)\n",
    "print(\"A : \\n\",a)\n",
    "print(\"\\nB : \\n\",b)"
   ]
  },
  {
   "cell_type": "markdown",
   "metadata": {
    "colab_type": "text",
    "id": "p7jtpYT4wiO6"
   },
   "source": [
    "Initialize and print two arrays $c$ and $d$ having the following properties:\n",
    "*   $c$ is a row vector with all non-negative integer values less than 100\n",
    "* $d$ is a square matrix of size 3 having all entries as 0.0"
   ]
  },
  {
   "cell_type": "code",
   "execution_count": 2,
   "metadata": {
    "colab": {
     "base_uri": "https://localhost:8080/",
     "height": 208
    },
    "colab_type": "code",
    "executionInfo": {
     "elapsed": 1977,
     "status": "ok",
     "timestamp": 1587129599822,
     "user": {
      "displayName": "Soham Naha",
      "photoUrl": "",
      "userId": "16336359137283689663"
     },
     "user_tz": -330
    },
    "id": "a2lJdRf8x9f2",
    "outputId": "9c38a76e-3881-4d59-fc23-ada6327c2aad"
   },
   "outputs": [
    {
     "name": "stdout",
     "output_type": "stream",
     "text": [
      "C : \n",
      " [ 0  1  2  3  4  5  6  7  8  9 10 11 12 13 14 15 16 17 18 19 20 21 22 23\n",
      " 24 25 26 27 28 29 30 31 32 33 34 35 36 37 38 39 40 41 42 43 44 45 46 47\n",
      " 48 49 50 51 52 53 54 55 56 57 58 59 60 61 62 63 64 65 66 67 68 69 70 71\n",
      " 72 73 74 75 76 77 78 79 80 81 82 83 84 85 86 87 88 89 90 91 92 93 94 95\n",
      " 96 97 98 99]\n",
      "\n",
      "D : \n",
      " [[0. 0. 0.]\n",
      " [0. 0. 0.]\n",
      " [0. 0. 0.]]\n"
     ]
    }
   ],
   "source": [
    "c = np.asarray([i for i in range(100)])\n",
    "print(\"C : \\n\",c)\n",
    "d = np.zeros([3,3])\n",
    "print(\"\\nD : \\n\",d)"
   ]
  },
  {
   "cell_type": "markdown",
   "metadata": {
    "colab_type": "text",
    "id": "qqgtSsa88Zmh"
   },
   "source": [
    "We have $e$ as following : ```e = [[1,2,3],[4,5,6],[7,8,9]]```. Change $e$ as a numpy array and print it."
   ]
  },
  {
   "cell_type": "code",
   "execution_count": 3,
   "metadata": {
    "colab": {
     "base_uri": "https://localhost:8080/",
     "height": 69
    },
    "colab_type": "code",
    "executionInfo": {
     "elapsed": 1959,
     "status": "ok",
     "timestamp": 1587129599824,
     "user": {
      "displayName": "Soham Naha",
      "photoUrl": "",
      "userId": "16336359137283689663"
     },
     "user_tz": -330
    },
    "id": "Krhm4bVE7RET",
    "outputId": "54b8d324-305d-4073-b850-c80d40b0200e"
   },
   "outputs": [
    {
     "name": "stdout",
     "output_type": "stream",
     "text": [
      "[[1 2 3]\n",
      " [4 5 6]\n",
      " [7 8 9]]\n"
     ]
    }
   ],
   "source": [
    "e = [[1,2,3],[4,5,6],[7,8,9]]\n",
    "e = np.asarray(e)\n",
    "print(e)"
   ]
  },
  {
   "cell_type": "markdown",
   "metadata": {
    "colab_type": "text",
    "id": "1qTikI0foam9"
   },
   "source": [
    "$f$ and $g$ are two square matrices of size 5 such that all the entries of $f$ are 1 and $g$ is an identity matrix. Initialize them and print them"
   ]
  },
  {
   "cell_type": "code",
   "execution_count": 4,
   "metadata": {
    "colab": {
     "base_uri": "https://localhost:8080/",
     "height": 243
    },
    "colab_type": "code",
    "executionInfo": {
     "elapsed": 1948,
     "status": "ok",
     "timestamp": 1587129599827,
     "user": {
      "displayName": "Soham Naha",
      "photoUrl": "",
      "userId": "16336359137283689663"
     },
     "user_tz": -330
    },
    "id": "DvaLckI49aBV",
    "outputId": "e5a90f58-1249-4806-b607-24dbe5e5c955"
   },
   "outputs": [
    {
     "name": "stdout",
     "output_type": "stream",
     "text": [
      "F :\n",
      " [[1. 1. 1. 1. 1.]\n",
      " [1. 1. 1. 1. 1.]\n",
      " [1. 1. 1. 1. 1.]\n",
      " [1. 1. 1. 1. 1.]\n",
      " [1. 1. 1. 1. 1.]]\n",
      "\n",
      "G :\n",
      " [[1. 0. 0. 0. 0.]\n",
      " [0. 1. 0. 0. 0.]\n",
      " [0. 0. 1. 0. 0.]\n",
      " [0. 0. 0. 1. 0.]\n",
      " [0. 0. 0. 0. 1.]]\n"
     ]
    }
   ],
   "source": [
    "f = np.ones((5,5))\n",
    "print(\"F :\\n\",f)\n",
    "g = np.eye(5)\n",
    "print(\"\\nG :\\n\",g)"
   ]
  },
  {
   "cell_type": "markdown",
   "metadata": {
    "colab_type": "text",
    "id": "gcBZAZibAKcg"
   },
   "source": [
    "Reshape $c$ into a $10 \\times 10$ matrix and name it $h$. Now flatten $h$, call it $c^\\prime$ and print **YES** when the shapes of $c$ and $c^\\prime$ are same. Otherwise print **NO**."
   ]
  },
  {
   "cell_type": "code",
   "execution_count": 5,
   "metadata": {
    "colab": {
     "base_uri": "https://localhost:8080/",
     "height": 34
    },
    "colab_type": "code",
    "executionInfo": {
     "elapsed": 1937,
     "status": "ok",
     "timestamp": 1587129599828,
     "user": {
      "displayName": "Soham Naha",
      "photoUrl": "",
      "userId": "16336359137283689663"
     },
     "user_tz": -330
    },
    "id": "I71vtO9bA9Pi",
    "outputId": "5773b4d9-0847-48ee-9d85-39e7054ee852"
   },
   "outputs": [
    {
     "name": "stdout",
     "output_type": "stream",
     "text": [
      "YES\n"
     ]
    }
   ],
   "source": [
    "h = np.resize(c,(10,10))\n",
    "c_dash = h.flatten()\n",
    "if c.shape==c_dash.shape: print(\"YES\")\n",
    "else: print(\"NO\")"
   ]
  },
  {
   "cell_type": "markdown",
   "metadata": {
    "colab_type": "text",
    "id": "8FrecDPiA-Bv"
   },
   "source": [
    "Let $A$ denote a randomly initialized three dimensional matrix of shape (2,10,5). Transpose $A$, call it $A^\\prime$, such that its shape is (5,2,10) and print it."
   ]
  },
  {
   "cell_type": "code",
   "execution_count": 6,
   "metadata": {
    "colab": {
     "base_uri": "https://localhost:8080/",
     "height": 34
    },
    "colab_type": "code",
    "executionInfo": {
     "elapsed": 1926,
     "status": "ok",
     "timestamp": 1587129599830,
     "user": {
      "displayName": "Soham Naha",
      "photoUrl": "",
      "userId": "16336359137283689663"
     },
     "user_tz": -330
    },
    "id": "VbOKqSm6Bkaq",
    "outputId": "9a3bcf8a-3b19-4b2d-b1e4-fd81de29d83a"
   },
   "outputs": [
    {
     "name": "stdout",
     "output_type": "stream",
     "text": [
      "(5, 2, 10)\n"
     ]
    }
   ],
   "source": [
    "A = np.random.rand(2,10,5)\n",
    "A_transpose = np.transpose(A,(2,0,1))\n",
    "print(A_transpose.shape)"
   ]
  },
  {
   "cell_type": "markdown",
   "metadata": {
    "colab_type": "text",
    "id": "xR2zd-nkCani"
   },
   "source": [
    "You have a matrix $X$ of size (10,5) filled with random values. Print the following :\n",
    "* Minimum value and index where it occured, for each column\n",
    "* Maximum value and the index where it occured, for each column\n",
    "* Minimum value and index where it occured, for each row\n",
    "* Maximum value and index where it occured, for each row\n",
    "* Minimum value and index where it occured, for the entire matrix\n",
    "* Maximum value and index where it occured, for the entire matrix"
   ]
  },
  {
   "cell_type": "code",
   "execution_count": 1,
   "metadata": {
    "colab": {
     "base_uri": "https://localhost:8080/",
     "height": 764
    },
    "colab_type": "code",
    "executionInfo": {
     "elapsed": 1915,
     "status": "ok",
     "timestamp": 1587129599831,
     "user": {
      "displayName": "Soham Naha",
      "photoUrl": "",
      "userId": "16336359137283689663"
     },
     "user_tz": -330
    },
    "id": "FR2Wd4fWD_Og",
    "outputId": "5eadf8fa-6438-4657-b251-d51213f48446"
   },
   "outputs": [
    {
     "ename": "NameError",
     "evalue": "name 'np' is not defined",
     "output_type": "error",
     "traceback": [
      "\u001b[0;31m---------------------------------------------------------------------------\u001b[0m",
      "\u001b[0;31mNameError\u001b[0m                                 Traceback (most recent call last)",
      "\u001b[0;32m<ipython-input-1-f1dbd351ea99>\u001b[0m in \u001b[0;36m<module>\u001b[0;34m\u001b[0m\n\u001b[0;32m----> 1\u001b[0;31m \u001b[0mnp\u001b[0m\u001b[0;34m.\u001b[0m\u001b[0mrandom\u001b[0m\u001b[0;34m.\u001b[0m\u001b[0mseed\u001b[0m\u001b[0;34m(\u001b[0m\u001b[0;36m0\u001b[0m\u001b[0;34m)\u001b[0m\u001b[0;34m\u001b[0m\u001b[0;34m\u001b[0m\u001b[0m\n\u001b[0m\u001b[1;32m      2\u001b[0m \u001b[0mX\u001b[0m \u001b[0;34m=\u001b[0m \u001b[0mnp\u001b[0m\u001b[0;34m.\u001b[0m\u001b[0mrandom\u001b[0m\u001b[0;34m.\u001b[0m\u001b[0mrand\u001b[0m\u001b[0;34m(\u001b[0m\u001b[0;36m10\u001b[0m\u001b[0;34m,\u001b[0m\u001b[0;36m5\u001b[0m\u001b[0;34m)\u001b[0m\u001b[0;34m.\u001b[0m\u001b[0mastype\u001b[0m\u001b[0;34m(\u001b[0m\u001b[0;34m'f'\u001b[0m\u001b[0;34m)\u001b[0m\u001b[0;34m\u001b[0m\u001b[0;34m\u001b[0m\u001b[0m\n\u001b[1;32m      3\u001b[0m \u001b[0;34m\u001b[0m\u001b[0m\n\u001b[1;32m      4\u001b[0m \u001b[0;32mdef\u001b[0m \u001b[0mval_index\u001b[0m\u001b[0;34m(\u001b[0m\u001b[0mlist_\u001b[0m\u001b[0;34m)\u001b[0m\u001b[0;34m:\u001b[0m\u001b[0;34m\u001b[0m\u001b[0;34m\u001b[0m\u001b[0m\n\u001b[1;32m      5\u001b[0m     \u001b[0;34m\"\"\"\"\"\"\u001b[0m\u001b[0;34m\u001b[0m\u001b[0;34m\u001b[0m\u001b[0m\n",
      "\u001b[0;31mNameError\u001b[0m: name 'np' is not defined"
     ]
    }
   ],
   "source": [
    "np.random.seed(0)\n",
    "X = np.random.rand(10,5).astype('f')\n",
    "\n",
    "def val_index(list_):\n",
    "    \"\"\"\n",
    "    To figure out the indices of the values in list_ present in X.\n",
    "    \"\"\"\n",
    "    index_out = []\n",
    "    for i in list_:\n",
    "        index = np.where(X == i)\n",
    "        index_out.append(list(zip(index[0], index[1])))\n",
    "    return index_out\n",
    "\n",
    "def print_val_ind(x,y):\n",
    "    \"\"\"\n",
    "    print out all the values and corresponding indices\n",
    "    \"\"\"\n",
    "    for i,j in zip(x,y):\n",
    "        print(\"Value = \",i,\" Index = \",j)\n",
    "\n",
    "\n",
    "# minimum value and indices of each column of X\n",
    "row_min_values = np.amin(X,axis=1)\n",
    "index_row_min_values = val_index(row_min_values)\n",
    "# maximum value and indices of each column of X\n",
    "row_max_values = np.amax(X,axis=1)\n",
    "index_row_max_values = val_index(row_max_values)\n",
    "# minimum value and indices of each row of X\n",
    "col_min_values = np.amin(X,axis=0)\n",
    "index_col_min_values = val_index(col_min_values)\n",
    "# maximum value and indices of each row of X\n",
    "col_max_values = np.amax(X,axis=0)\n",
    "index_col_max_values = val_index(col_max_values)\n",
    "# minimum value and its index of the whole matrix\n",
    "matrix_min_value = np.amin(X)\n",
    "index_matrix_min_value = np.where(X == matrix_min_value)\n",
    "index_matrix_min_value = list(zip(index_matrix_min_value[0], index_matrix_min_value[1]))\n",
    "# maximum value and its index of the whole matrix\n",
    "matrix_max_value = np.amax(X)\n",
    "index_matrix_max_value = np.where(X == matrix_max_value)\n",
    "index_matrix_max_value = list(zip(index_matrix_max_value[0], index_matrix_max_value[1]))\n",
    "\n",
    "\n",
    "print(\"Minimum value of columns and their indices\")\n",
    "print_val_ind(col_min_values,index_col_min_values)\n",
    "print(\"\\nMaximum value of columns and their indices\")\n",
    "print_val_ind(col_max_values,index_col_max_values)\n",
    "print(\"\\nMinimum value of rows and their indices\")\n",
    "print_val_ind(row_min_values,index_row_min_values)\n",
    "print(\"\\nMaximum value of rows and their indices\")\n",
    "print_val_ind(row_max_values,index_row_max_values)\n",
    "print(\"\\nMinimum value of the whole Matrix X and its index\")\n",
    "print(\"Value = \",matrix_min_value,\" Index = \",index_matrix_min_value)\n",
    "print(\"\\nMaximum value of the whole Matrix X and its index\")\n",
    "print(\"Value = \",matrix_max_value,\" Index = \",index_matrix_max_value)"
   ]
  },
  {
   "cell_type": "markdown",
   "metadata": {
    "colab_type": "text",
    "id": "YpjW2ypkEGtS"
   },
   "source": [
    "Find and print the following for the matrix X: \n",
    "* Mean of each row and column\n",
    "* Standard deviation of each row and column\n",
    "* Mean of the entire matrix\n",
    "* Standard deviation of entire matrix"
   ]
  },
  {
   "cell_type": "code",
   "execution_count": 8,
   "metadata": {
    "colab": {
     "base_uri": "https://localhost:8080/",
     "height": 399
    },
    "colab_type": "code",
    "executionInfo": {
     "elapsed": 1895,
     "status": "ok",
     "timestamp": 1587129599833,
     "user": {
      "displayName": "Soham Naha",
      "photoUrl": "",
      "userId": "16336359137283689663"
     },
     "user_tz": -330
    },
    "id": "gMdm2pw0GWjf",
    "outputId": "ec49ebda-5976-4ca6-9735-97a8e680bb93"
   },
   "outputs": [
    {
     "name": "stdout",
     "output_type": "stream",
     "text": [
      "The Mean and Standard Deviation of each Row of the Matrix X :\n",
      "The mean for row :  0  is :  0.5670608  with standard deviation :  0.09445298\n",
      "The mean for row :  1  is :  0.66447175  with standard deviation :  0.23322985\n",
      "The mean for row :  2  is :  0.57705945  with standard deviation :  0.29189733\n",
      "The mean for row :  3  is :  0.5176273  with standard deviation :  0.3805299\n",
      "The mean for row :  4  is :  0.627612  with standard deviation :  0.30431634\n",
      "The mean for row :  5  is :  0.5328907  with standard deviation :  0.26338416\n",
      "The mean for row :  6  is :  0.41643268  with standard deviation :  0.2584144\n",
      "The mean for row :  7  is :  0.6944467  with standard deviation :  0.12727958\n",
      "The mean for row :  8  is :  0.44423264  with standard deviation :  0.23169975\n",
      "The mean for row :  9  is :  0.33781716  with standard deviation :  0.1853733\n",
      "\n",
      "The Mean and Standard Deviation of each Column of the Matrix X :\n",
      "The mean for column :  0  is :  0.56044376  with standard deviation :  0.24687646\n",
      "The mean for column :  1  is :  0.46781453  with standard deviation :  0.25752157\n",
      "The mean for column :  2  is :  0.6200991  with standard deviation :  0.22948615\n",
      "The mean for column :  3  is :  0.6402513  with standard deviation :  0.28054145\n",
      "The mean for column :  4  is :  0.40121683  with standard deviation :  0.26584905\n",
      "\n",
      "The mean for the entire Matrix X is :  0.53796506\n",
      "\n",
      "The standard deviation for the entire Matrix X is :  0.27226582\n"
     ]
    }
   ],
   "source": [
    "print(\"The Mean and Standard Deviation of each Row of the Matrix X :\")\n",
    "count = [i for i in range(X.shape[0])]\n",
    "for i,j,k in zip(count,np.mean(X,axis=1),np.std(X,axis=1)):\n",
    "    print(\"The mean for row : \",i,\" is : \",j,\" with standard deviation : \",k )\n",
    "\n",
    "print(\"\\nThe Mean and Standard Deviation of each Column of the Matrix X :\")\n",
    "count = [i for i in range(X.shape[1])]\n",
    "for i,j,k in zip(count,np.mean(X,axis=0),np.std(X,axis=0)):\n",
    "    print(\"The mean for column : \",i,\" is : \",j,\" with standard deviation : \",k )\n",
    "    \n",
    "print(\"\\nThe mean for the entire Matrix X is : \",np.mean(X))\n",
    "print(\"\\nThe standard deviation for the entire Matrix X is : \",np.std(X))\n"
   ]
  },
  {
   "cell_type": "markdown",
   "metadata": {
    "colab_type": "text",
    "id": "7dw7W8HOGXKA"
   },
   "source": [
    "Let $Y$ denote a square matrix of size 10 with random values. Print the following:\n",
    "* Determinant\n",
    "* Rank of the matrix\n",
    "* Diagonal Elements\n",
    "* Trace\n",
    "* Eigen values\n",
    "* Matrices obtained after Singular Value Decomposition\n",
    "* Inverse if exists, otherwise Pseudo-Inverse\n",
    "* Multiplication $Y$ with $X$\n",
    "* Element-wise multiplication of $Y$ and its inverse(or pseudo-inverse)"
   ]
  },
  {
   "cell_type": "code",
   "execution_count": 9,
   "metadata": {
    "colab": {
     "base_uri": "https://localhost:8080/",
     "height": 1000
    },
    "colab_type": "code",
    "executionInfo": {
     "elapsed": 1884,
     "status": "ok",
     "timestamp": 1587129599834,
     "user": {
      "displayName": "Soham Naha",
      "photoUrl": "",
      "userId": "16336359137283689663"
     },
     "user_tz": -330
    },
    "id": "Tswbn9hgL7yi",
    "outputId": "ca8b5e4d-9969-40e5-cde6-47c535104844"
   },
   "outputs": [
    {
     "name": "stdout",
     "output_type": "stream",
     "text": [
      "Determinant of Y :  -0.012807809\n",
      "Rank of Y :  10\n",
      "The Diagonal Elements are :  [0.5507979, 0.4568332, 0.4404537, 0.84575087, 0.4576864, 0.3621762, 0.061528932, 0.19897602, 0.9267257, 0.19638057]\n",
      "Trace of Y :  4.4973097\n",
      "Eigen Values of Y : \n",
      " [ 4.797525  +0.j          0.72411406+0.5223818j   0.72411406-0.5223818j\n",
      " -0.48250064+0.55413675j -0.48250064-0.55413675j -0.6909002 +0.j\n",
      " -0.2590566 +0.32357377j -0.2590566 -0.32357377j  0.21278551+0.08352476j\n",
      "  0.21278551-0.08352476j]\n",
      "The Matrices obtained on SVD of Y are : \n",
      "Matrix U : \n",
      " [[-0.31776407 -0.02455511 -0.60644877 -0.17883356 -0.12672162  0.14873871\n",
      "  -0.17823945 -0.5285945  -0.02295864 -0.38570884]\n",
      " [-0.26118514 -0.10864542 -0.24911353  0.26547363  0.521684   -0.25773907\n",
      "  -0.46995324  0.21752644 -0.3928504   0.16234496]\n",
      " [-0.31347907 -0.34483472 -0.25292295  0.1214296   0.14869638  0.33436325\n",
      "   0.54080224  0.48017168  0.05660696 -0.20966421]\n",
      " [-0.3581538   0.5949002   0.3025516   0.15850614 -0.11046297  0.3051409\n",
      "   0.07395529  0.03044895 -0.5056166  -0.18384856]\n",
      " [-0.28385845 -0.18085696 -0.15830778  0.10535531 -0.46807835 -0.08377642\n",
      "   0.24075456 -0.16170762 -0.2478695   0.6920165 ]\n",
      " [-0.28871349 -0.27577123  0.40271106  0.60433656  0.11931678 -0.04899206\n",
      "   0.02593319 -0.44875148  0.2787474  -0.12964799]\n",
      " [-0.27897316  0.00398904  0.20819752 -0.5253662   0.4111689  -0.41991907\n",
      "   0.42687228 -0.24145621 -0.12958513 -0.00984812]\n",
      " [-0.24788529  0.48136836 -0.15792437 -0.02303901  0.3246308   0.25755957\n",
      "  -0.01429536 -0.03088374  0.5605249   0.4407926 ]\n",
      " [-0.37505168 -0.3672858   0.39799374 -0.451868   -0.10830046  0.3445676\n",
      "  -0.44474027  0.14147954  0.07167252  0.09192695]\n",
      " [-0.400496    0.19846101 -0.02705461  0.0250083  -0.39745057 -0.57941616\n",
      "  -0.10288204  0.36739558  0.33321488 -0.22039138]]\n",
      "Matrix S : \n",
      " [4.8963666  1.428321   1.1717339  0.94068766 0.7689225  0.62457275\n",
      " 0.5210595  0.28969577 0.24512275 0.09350223]\n",
      "Matrix Vt : \n",
      " [[-0.28816736 -0.35560524 -0.33294234 -0.33250663 -0.3665819  -0.3625847\n",
      "  -0.2657325  -0.23278667 -0.30457184 -0.29270443]\n",
      " [ 0.536935    0.11306853  0.3956208   0.2509972  -0.0736956  -0.37753546\n",
      "  -0.08584362  0.0033361  -0.23990218 -0.5162398 ]\n",
      " [-0.084609   -0.22589746 -0.00306935  0.19542387 -0.327784   -0.49318925\n",
      "   0.42323124  0.18588504  0.5820017   0.02301788]\n",
      " [ 0.01388162 -0.2631197   0.4219039  -0.5361294   0.01058635 -0.04415913\n",
      "   0.29385135  0.49501815 -0.3273102   0.15669076]\n",
      " [-0.273408    0.2822063   0.28945857 -0.1626885   0.14790417 -0.35915032\n",
      "  -0.6497188   0.2385461   0.29589233  0.13378415]\n",
      " [ 0.10830598  0.2797456  -0.20571162  0.10308821  0.10096017 -0.5325142\n",
      "   0.15994866 -0.16150896 -0.3941054   0.5969218 ]\n",
      " [ 0.44882083  0.3497204  -0.0177392  -0.5073739  -0.522514    0.11970018\n",
      "  -0.02807841 -0.20137778  0.25705558  0.15409273]\n",
      " [-0.3559982  -0.05022621  0.6342795   0.20935185 -0.34847087  0.11510692\n",
      "   0.03182218 -0.47748396 -0.11616712  0.21777065]\n",
      " [ 0.18417677 -0.3216889   0.1595497  -0.32397524  0.55483675 -0.18079819\n",
      "   0.08626621 -0.5506364   0.28439358 -0.01119239]\n",
      " [-0.41560915  0.59522265  0.02089307 -0.23979844  0.13515563 -0.0893732\n",
      "   0.4467469  -0.10709453 -0.02239562 -0.42098814]]\n",
      "Inverse of Y : \n",
      " [[ 2.31471    -1.9226501   0.76421255  0.7809697  -2.7424858   1.2017511\n",
      "   0.38693166 -1.376645   -0.9648414   0.8312325 ]\n",
      " [-2.2450411   1.2560577  -0.9146622  -0.39587632  4.718236   -1.321622\n",
      "   0.52594995  2.3936813   0.3305188  -2.3354008 ]\n",
      " [-1.4129093   0.66149944  0.9496809  -0.18869257 -0.50069565 -0.5566494\n",
      "  -0.5527516   0.5738495  -0.04209635  1.1102555 ]\n",
      " [ 0.88051146  0.37055424  0.15632506  1.2524823  -1.8121957  -0.7249178\n",
      "  -0.1961352  -1.8176638   0.5694399   0.5222637 ]\n",
      " [ 0.3974364  -0.28842717 -1.0988063  -1.5796597   0.36480767  0.90235513\n",
      "  -0.47743458  2.0991116   0.5363829  -0.04562017]\n",
      " [ 0.36068186  0.22958495  0.33426258  0.1036728  -0.06700742 -0.3715855\n",
      "   0.22972704 -1.2628686  -0.4513304   0.7543002 ]\n",
      " [-2.0104537   0.19347443 -1.0139381  -0.7430357   3.5644991  -0.31892154\n",
      "  -0.6711616   2.012657    0.72873354 -0.6945459 ]\n",
      " [ 1.1804398   0.8604739  -0.88991493  1.3042563  -0.14247304  0.6966197\n",
      "   0.5413573  -1.6977469  -0.6079773  -1.0069823 ]\n",
      " [-0.16794565 -0.63197035 -0.05408022 -0.73587817 -0.46423185  0.67805624\n",
      "   0.88551384  0.3766253  -0.03416887  0.42341334]\n",
      " [ 1.3938873  -0.74982375  1.9663664   1.0067668  -3.219538    0.44078138\n",
      "  -0.4029866  -1.9011432  -0.04414836  0.5557676 ]]\n",
      "Multiplication of Y with X : \n",
      " [[2.957261  2.0493963 3.0907347 3.2231164 1.78555  ]\n",
      " [2.61267   1.7566396 2.4863594 2.7978396 1.5065442]\n",
      " [2.9836175 2.0289402 2.8263786 2.8868573 1.6979955]\n",
      " [2.985659  2.8548563 3.5899565 4.0073466 2.269757 ]\n",
      " [2.4981582 1.9779104 2.7780979 2.716905  1.5909876]\n",
      " [2.7214692 2.399059  2.5878088 2.7821286 1.7179263]\n",
      " [2.2293534 1.7443825 2.9471834 2.489559  2.058382 ]\n",
      " [2.3047678 1.9235008 2.4169881 2.813797  1.3801602]\n",
      " [2.9192524 2.3660412 3.5364797 3.304242  2.529909 ]\n",
      " [3.395591  2.8462927 4.05845   4.010683  2.3581626]]\n",
      "Element wise multiplication : \n",
      " [[ 9.99999940e-01  5.80975055e-08  1.01432889e-07 -7.38985477e-08\n",
      "   7.78637457e-08  7.80250247e-08  2.78576735e-08  2.17168278e-07\n",
      "  -2.39576856e-08  4.24440501e-08]\n",
      " [ 6.23142498e-08  1.00000000e+00  3.12848876e-08 -8.29057427e-08\n",
      "   4.85930727e-08 -2.82634272e-09  1.13365015e-08  4.61946676e-08\n",
      "   2.16676455e-08  1.07918389e-07]\n",
      " [-5.15516803e-08 -2.16665121e-08  1.00000000e+00 -1.40264262e-08\n",
      "  -4.18621084e-07 -1.04787450e-08 -2.39449172e-08 -2.17040608e-08\n",
      "   6.43987974e-10  8.73922659e-08]\n",
      " [-3.75193281e-08 -1.57258597e-08  1.16494618e-08  1.00000000e+00\n",
      "  -1.10001736e-07  3.75498388e-09 -3.96927788e-08 -9.25874133e-09\n",
      "   1.28220634e-08  7.08637060e-09]\n",
      " [ 4.19823749e-08 -2.57778332e-08  4.50835458e-08 -3.95406516e-08\n",
      "   1.00000000e+00 -4.35053025e-08 -1.59268332e-08 -1.01229389e-08\n",
      "  -4.14628865e-09  7.70585444e-08]\n",
      " [ 6.80238088e-09 -5.02739788e-08 -8.08713239e-08  1.64677374e-08\n",
      "   1.67841662e-07  1.00000000e+00 -5.26438626e-09  4.14224175e-08\n",
      "  -6.68125644e-09 -3.31802674e-08]\n",
      " [-3.12752064e-08  5.21491827e-09  5.40270904e-08  8.06693379e-10\n",
      "  -6.21038367e-08  6.25492049e-08  1.00000000e+00  5.19735721e-09\n",
      "   6.65116850e-09  8.02309330e-08]\n",
      " [-7.39831165e-08  4.89386132e-08  4.88374283e-08 -1.10489630e-07\n",
      "  -7.05810237e-08  1.73706489e-08  2.75095147e-08  1.00000000e+00\n",
      "  -1.44579682e-09  9.71282432e-08]\n",
      " [-4.40672778e-08  1.45338355e-08 -1.03511368e-08 -5.47547074e-09\n",
      "   5.73206336e-08 -1.49746541e-07 -4.82966520e-08  1.73631491e-07\n",
      "   9.99999940e-01  5.92321605e-08]\n",
      " [-7.40040775e-08 -1.43142307e-08  7.53654206e-08 -7.78787594e-08\n",
      "  -1.03538028e-07 -5.17164755e-09 -2.45985596e-08 -3.43197897e-08\n",
      "   4.00495814e-08  1.00000000e+00]]\n"
     ]
    }
   ],
   "source": [
    "np.random.seed(3)\n",
    "Y = np.random.rand(10,10).astype('f')\n",
    "diag = [Y[i,i] for i in range(Y.shape[0])]\n",
    "print(\"Determinant of Y : \",np.linalg.det(Y))\n",
    "print(\"Rank of Y : \",np.linalg.matrix_rank(Y))\n",
    "print(\"The Diagonal Elements are : \",diag)\n",
    "print(\"Trace of Y : \",np.trace(Y))\n",
    "print(\"Eigen Values of Y : \\n\",np.linalg.eig(Y)[0])\n",
    "\n",
    "u,s,vh = np.linalg.svd(Y,full_matrices=True)\n",
    "# Y = U*S*Vt by svd\n",
    "\n",
    "print(\"The Matrices obtained on SVD of Y are : \")\n",
    "print(\"Matrix U : \\n\",u)\n",
    "print(\"Matrix S : \\n\",s)\n",
    "print(\"Matrix Vt : \\n\",vh)\n",
    "print(\"Inverse of Y : \\n\",np.linalg.inv(Y))\n",
    "print(\"Multiplication of Y with X : \\n\",np.matmul(Y,X))\n",
    "print(\"Element wise multiplication : \\n\",Y@np.linalg.inv(Y))"
   ]
  },
  {
   "cell_type": "markdown",
   "metadata": {
    "colab_type": "text",
    "id": "Qne3RnfOL6-4"
   },
   "source": [
    "## End of Part - 1\n",
    " --- --- ---"
   ]
  },
  {
   "cell_type": "markdown",
   "metadata": {
    "colab_type": "text",
    "id": "LA-m4UYkMPTe"
   },
   "source": [
    "## Part - 2\n",
    "---\n",
    "In this part, you will be working with the library ```pandas```. Import this library with an alias name ```pd```."
   ]
  },
  {
   "cell_type": "code",
   "execution_count": 0,
   "metadata": {
    "colab": {},
    "colab_type": "code",
    "id": "i8z7TpnZSIms"
   },
   "outputs": [],
   "source": [
    "# Initial imports\n",
    "import numpy as np\n",
    "import matplotlib.pyplot as plt\n",
    "import pandas as pd\n",
    "%matplotlib inline"
   ]
  },
  {
   "cell_type": "markdown",
   "metadata": {
    "colab_type": "text",
    "id": "2v-HkHnyuQ3X"
   },
   "source": [
    "Download dataset from: http://biostat.mc.vanderbilt.edu/wiki/pub/Main/DataSets/titanic3.csv\n",
    "Read the data and display the first 5 rows"
   ]
  },
  {
   "cell_type": "code",
   "execution_count": 11,
   "metadata": {
    "colab": {
     "base_uri": "https://localhost:8080/",
     "height": 276
    },
    "colab_type": "code",
    "executionInfo": {
     "elapsed": 2329,
     "status": "ok",
     "timestamp": 1587129600295,
     "user": {
      "displayName": "Soham Naha",
      "photoUrl": "",
      "userId": "16336359137283689663"
     },
     "user_tz": -330
    },
    "id": "LinX5ywNTUIm",
    "outputId": "c8b12fb0-961e-4eb9-dc77-f578946b35b0"
   },
   "outputs": [
    {
     "data": {
      "text/html": [
       "<div>\n",
       "<style scoped>\n",
       "    .dataframe tbody tr th:only-of-type {\n",
       "        vertical-align: middle;\n",
       "    }\n",
       "\n",
       "    .dataframe tbody tr th {\n",
       "        vertical-align: top;\n",
       "    }\n",
       "\n",
       "    .dataframe thead th {\n",
       "        text-align: right;\n",
       "    }\n",
       "</style>\n",
       "<table border=\"1\" class=\"dataframe\">\n",
       "  <thead>\n",
       "    <tr style=\"text-align: right;\">\n",
       "      <th></th>\n",
       "      <th>pclass</th>\n",
       "      <th>survived</th>\n",
       "      <th>name</th>\n",
       "      <th>sex</th>\n",
       "      <th>age</th>\n",
       "      <th>sibsp</th>\n",
       "      <th>parch</th>\n",
       "      <th>ticket</th>\n",
       "      <th>fare</th>\n",
       "      <th>cabin</th>\n",
       "      <th>embarked</th>\n",
       "      <th>boat</th>\n",
       "      <th>body</th>\n",
       "      <th>home.dest</th>\n",
       "    </tr>\n",
       "  </thead>\n",
       "  <tbody>\n",
       "    <tr>\n",
       "      <th>0</th>\n",
       "      <td>1</td>\n",
       "      <td>1</td>\n",
       "      <td>Allen, Miss. Elisabeth Walton</td>\n",
       "      <td>female</td>\n",
       "      <td>29.00</td>\n",
       "      <td>0</td>\n",
       "      <td>0</td>\n",
       "      <td>24160</td>\n",
       "      <td>211.3375</td>\n",
       "      <td>B5</td>\n",
       "      <td>S</td>\n",
       "      <td>2</td>\n",
       "      <td>NaN</td>\n",
       "      <td>St Louis, MO</td>\n",
       "    </tr>\n",
       "    <tr>\n",
       "      <th>1</th>\n",
       "      <td>1</td>\n",
       "      <td>1</td>\n",
       "      <td>Allison, Master. Hudson Trevor</td>\n",
       "      <td>male</td>\n",
       "      <td>0.92</td>\n",
       "      <td>1</td>\n",
       "      <td>2</td>\n",
       "      <td>113781</td>\n",
       "      <td>151.5500</td>\n",
       "      <td>C22 C26</td>\n",
       "      <td>S</td>\n",
       "      <td>11</td>\n",
       "      <td>NaN</td>\n",
       "      <td>Montreal, PQ / Chesterville, ON</td>\n",
       "    </tr>\n",
       "    <tr>\n",
       "      <th>2</th>\n",
       "      <td>1</td>\n",
       "      <td>0</td>\n",
       "      <td>Allison, Miss. Helen Loraine</td>\n",
       "      <td>female</td>\n",
       "      <td>2.00</td>\n",
       "      <td>1</td>\n",
       "      <td>2</td>\n",
       "      <td>113781</td>\n",
       "      <td>151.5500</td>\n",
       "      <td>C22 C26</td>\n",
       "      <td>S</td>\n",
       "      <td>NaN</td>\n",
       "      <td>NaN</td>\n",
       "      <td>Montreal, PQ / Chesterville, ON</td>\n",
       "    </tr>\n",
       "    <tr>\n",
       "      <th>3</th>\n",
       "      <td>1</td>\n",
       "      <td>0</td>\n",
       "      <td>Allison, Mr. Hudson Joshua Creighton</td>\n",
       "      <td>male</td>\n",
       "      <td>30.00</td>\n",
       "      <td>1</td>\n",
       "      <td>2</td>\n",
       "      <td>113781</td>\n",
       "      <td>151.5500</td>\n",
       "      <td>C22 C26</td>\n",
       "      <td>S</td>\n",
       "      <td>NaN</td>\n",
       "      <td>135.0</td>\n",
       "      <td>Montreal, PQ / Chesterville, ON</td>\n",
       "    </tr>\n",
       "    <tr>\n",
       "      <th>4</th>\n",
       "      <td>1</td>\n",
       "      <td>0</td>\n",
       "      <td>Allison, Mrs. Hudson J C (Bessie Waldo Daniels)</td>\n",
       "      <td>female</td>\n",
       "      <td>25.00</td>\n",
       "      <td>1</td>\n",
       "      <td>2</td>\n",
       "      <td>113781</td>\n",
       "      <td>151.5500</td>\n",
       "      <td>C22 C26</td>\n",
       "      <td>S</td>\n",
       "      <td>NaN</td>\n",
       "      <td>NaN</td>\n",
       "      <td>Montreal, PQ / Chesterville, ON</td>\n",
       "    </tr>\n",
       "  </tbody>\n",
       "</table>\n",
       "</div>"
      ],
      "text/plain": [
       "   pclass  survived  ...   body                        home.dest\n",
       "0       1         1  ...    NaN                     St Louis, MO\n",
       "1       1         1  ...    NaN  Montreal, PQ / Chesterville, ON\n",
       "2       1         0  ...    NaN  Montreal, PQ / Chesterville, ON\n",
       "3       1         0  ...  135.0  Montreal, PQ / Chesterville, ON\n",
       "4       1         0  ...    NaN  Montreal, PQ / Chesterville, ON\n",
       "\n",
       "[5 rows x 14 columns]"
      ]
     },
     "execution_count": 11,
     "metadata": {
      "tags": []
     },
     "output_type": "execute_result"
    }
   ],
   "source": [
    "#Download dataset from: http://biostat.mc.vanderbilt.edu/wiki/pub/Main/DataSets/titanic3.csv\n",
    "\n",
    "file_url = \"http://biostat.mc.vanderbilt.edu/wiki/pub/Main/DataSets/titanic3.csv\"\n",
    "df = pd.read_csv(file_url)\n",
    "df.head(5)"
   ]
  },
  {
   "cell_type": "markdown",
   "metadata": {
    "colab_type": "text",
    "id": "vTk1-mF5WYFN"
   },
   "source": [
    "### Preprocessing of the Dataset"
   ]
  },
  {
   "cell_type": "markdown",
   "metadata": {
    "colab_type": "text",
    "id": "kx9UrI9WWt17"
   },
   "source": [
    "\n",
    "\n",
    "---\n",
    "\n",
    "\n",
    "**1. Convert the categorical values of columns 'sex', 'embarked', 'pclass' into dummy values and add them into titanic_data_new DataFrame**\n",
    "\n",
    "\n",
    "\n",
    "\n",
    "---\n",
    "\n"
   ]
  },
  {
   "cell_type": "code",
   "execution_count": 0,
   "metadata": {
    "colab": {},
    "colab_type": "code",
    "id": "AwDh9njbZ0QU"
   },
   "outputs": [],
   "source": [
    "col = ['sex','embarked','pclass']\n",
    "titanic_data_new = pd.get_dummies(df[col])"
   ]
  },
  {
   "cell_type": "markdown",
   "metadata": {
    "colab_type": "text",
    "id": "Z9bxOfzDbY-n"
   },
   "source": [
    "\n",
    "\n",
    "---\n",
    "\n",
    "\n",
    "**2. Fill the missing data in Age and Fare columns with the mean value of the respected column then add these columns to titanic_data_new**\n",
    "\n",
    "\n",
    "---\n",
    "\n"
   ]
  },
  {
   "cell_type": "code",
   "execution_count": 13,
   "metadata": {
    "colab": {
     "base_uri": "https://localhost:8080/",
     "height": 206
    },
    "colab_type": "code",
    "executionInfo": {
     "elapsed": 2317,
     "status": "ok",
     "timestamp": 1587129600298,
     "user": {
      "displayName": "Soham Naha",
      "photoUrl": "",
      "userId": "16336359137283689663"
     },
     "user_tz": -330
    },
    "id": "DNx7Pr0ehhAs",
    "outputId": "909c9df2-7eb0-4625-f0f7-e441ac88f31e"
   },
   "outputs": [
    {
     "data": {
      "text/html": [
       "<div>\n",
       "<style scoped>\n",
       "    .dataframe tbody tr th:only-of-type {\n",
       "        vertical-align: middle;\n",
       "    }\n",
       "\n",
       "    .dataframe tbody tr th {\n",
       "        vertical-align: top;\n",
       "    }\n",
       "\n",
       "    .dataframe thead th {\n",
       "        text-align: right;\n",
       "    }\n",
       "</style>\n",
       "<table border=\"1\" class=\"dataframe\">\n",
       "  <thead>\n",
       "    <tr style=\"text-align: right;\">\n",
       "      <th></th>\n",
       "      <th>age</th>\n",
       "      <th>fare</th>\n",
       "      <th>pclass</th>\n",
       "      <th>sex_female</th>\n",
       "      <th>sex_male</th>\n",
       "      <th>embarked_C</th>\n",
       "      <th>embarked_Q</th>\n",
       "      <th>embarked_S</th>\n",
       "    </tr>\n",
       "  </thead>\n",
       "  <tbody>\n",
       "    <tr>\n",
       "      <th>0</th>\n",
       "      <td>29.00</td>\n",
       "      <td>211.3375</td>\n",
       "      <td>1</td>\n",
       "      <td>1</td>\n",
       "      <td>0</td>\n",
       "      <td>0</td>\n",
       "      <td>0</td>\n",
       "      <td>1</td>\n",
       "    </tr>\n",
       "    <tr>\n",
       "      <th>1</th>\n",
       "      <td>0.92</td>\n",
       "      <td>151.5500</td>\n",
       "      <td>1</td>\n",
       "      <td>0</td>\n",
       "      <td>1</td>\n",
       "      <td>0</td>\n",
       "      <td>0</td>\n",
       "      <td>1</td>\n",
       "    </tr>\n",
       "    <tr>\n",
       "      <th>2</th>\n",
       "      <td>2.00</td>\n",
       "      <td>151.5500</td>\n",
       "      <td>1</td>\n",
       "      <td>1</td>\n",
       "      <td>0</td>\n",
       "      <td>0</td>\n",
       "      <td>0</td>\n",
       "      <td>1</td>\n",
       "    </tr>\n",
       "    <tr>\n",
       "      <th>3</th>\n",
       "      <td>30.00</td>\n",
       "      <td>151.5500</td>\n",
       "      <td>1</td>\n",
       "      <td>0</td>\n",
       "      <td>1</td>\n",
       "      <td>0</td>\n",
       "      <td>0</td>\n",
       "      <td>1</td>\n",
       "    </tr>\n",
       "    <tr>\n",
       "      <th>4</th>\n",
       "      <td>25.00</td>\n",
       "      <td>151.5500</td>\n",
       "      <td>1</td>\n",
       "      <td>1</td>\n",
       "      <td>0</td>\n",
       "      <td>0</td>\n",
       "      <td>0</td>\n",
       "      <td>1</td>\n",
       "    </tr>\n",
       "  </tbody>\n",
       "</table>\n",
       "</div>"
      ],
      "text/plain": [
       "     age      fare  pclass  ...  embarked_C  embarked_Q  embarked_S\n",
       "0  29.00  211.3375       1  ...           0           0           1\n",
       "1   0.92  151.5500       1  ...           0           0           1\n",
       "2   2.00  151.5500       1  ...           0           0           1\n",
       "3  30.00  151.5500       1  ...           0           0           1\n",
       "4  25.00  151.5500       1  ...           0           0           1\n",
       "\n",
       "[5 rows x 8 columns]"
      ]
     },
     "execution_count": 13,
     "metadata": {
      "tags": []
     },
     "output_type": "execute_result"
    }
   ],
   "source": [
    "col = ['age','fare']\n",
    "df[col] = df[col].fillna(df.mean())\n",
    "titanic_data_new = pd.concat([df[col],titanic_data_new],axis=1)\n",
    "titanic_data_new.head(5)"
   ]
  },
  {
   "cell_type": "markdown",
   "metadata": {
    "colab_type": "text",
    "id": "SlRzKfhxkd1M"
   },
   "source": [
    "### Normalization\n",
    "\n",
    "\n",
    "---\n",
    "\n",
    "\n",
    "\n",
    "1. Normalize the columns which have numerical data\n",
    "\n",
    "\n",
    "\n",
    "---\n",
    "\n"
   ]
  },
  {
   "cell_type": "code",
   "execution_count": 14,
   "metadata": {
    "colab": {
     "base_uri": "https://localhost:8080/",
     "height": 206
    },
    "colab_type": "code",
    "executionInfo": {
     "elapsed": 2779,
     "status": "ok",
     "timestamp": 1587129600767,
     "user": {
      "displayName": "Soham Naha",
      "photoUrl": "",
      "userId": "16336359137283689663"
     },
     "user_tz": -330
    },
    "id": "Y3hpu92TlM38",
    "outputId": "38134a47-52b6-4d71-b262-dfb327aebaf3"
   },
   "outputs": [
    {
     "data": {
      "text/html": [
       "<div>\n",
       "<style scoped>\n",
       "    .dataframe tbody tr th:only-of-type {\n",
       "        vertical-align: middle;\n",
       "    }\n",
       "\n",
       "    .dataframe tbody tr th {\n",
       "        vertical-align: top;\n",
       "    }\n",
       "\n",
       "    .dataframe thead th {\n",
       "        text-align: right;\n",
       "    }\n",
       "</style>\n",
       "<table border=\"1\" class=\"dataframe\">\n",
       "  <thead>\n",
       "    <tr style=\"text-align: right;\">\n",
       "      <th></th>\n",
       "      <th>0</th>\n",
       "      <th>1</th>\n",
       "      <th>2</th>\n",
       "      <th>3</th>\n",
       "      <th>4</th>\n",
       "      <th>5</th>\n",
       "      <th>6</th>\n",
       "    </tr>\n",
       "  </thead>\n",
       "  <tbody>\n",
       "    <tr>\n",
       "      <th>0</th>\n",
       "      <td>0.0</td>\n",
       "      <td>1.0</td>\n",
       "      <td>0.361142</td>\n",
       "      <td>0.000</td>\n",
       "      <td>0.000000</td>\n",
       "      <td>0.412503</td>\n",
       "      <td>NaN</td>\n",
       "    </tr>\n",
       "    <tr>\n",
       "      <th>1</th>\n",
       "      <td>0.0</td>\n",
       "      <td>1.0</td>\n",
       "      <td>0.009395</td>\n",
       "      <td>0.125</td>\n",
       "      <td>0.222222</td>\n",
       "      <td>0.295806</td>\n",
       "      <td>NaN</td>\n",
       "    </tr>\n",
       "    <tr>\n",
       "      <th>2</th>\n",
       "      <td>0.0</td>\n",
       "      <td>0.0</td>\n",
       "      <td>0.022924</td>\n",
       "      <td>0.125</td>\n",
       "      <td>0.222222</td>\n",
       "      <td>0.295806</td>\n",
       "      <td>NaN</td>\n",
       "    </tr>\n",
       "    <tr>\n",
       "      <th>3</th>\n",
       "      <td>0.0</td>\n",
       "      <td>0.0</td>\n",
       "      <td>0.373669</td>\n",
       "      <td>0.125</td>\n",
       "      <td>0.222222</td>\n",
       "      <td>0.295806</td>\n",
       "      <td>0.409786</td>\n",
       "    </tr>\n",
       "    <tr>\n",
       "      <th>4</th>\n",
       "      <td>0.0</td>\n",
       "      <td>0.0</td>\n",
       "      <td>0.311036</td>\n",
       "      <td>0.125</td>\n",
       "      <td>0.222222</td>\n",
       "      <td>0.295806</td>\n",
       "      <td>NaN</td>\n",
       "    </tr>\n",
       "  </tbody>\n",
       "</table>\n",
       "</div>"
      ],
      "text/plain": [
       "     0    1         2      3         4         5         6\n",
       "0  0.0  1.0  0.361142  0.000  0.000000  0.412503       NaN\n",
       "1  0.0  1.0  0.009395  0.125  0.222222  0.295806       NaN\n",
       "2  0.0  0.0  0.022924  0.125  0.222222  0.295806       NaN\n",
       "3  0.0  0.0  0.373669  0.125  0.222222  0.295806  0.409786\n",
       "4  0.0  0.0  0.311036  0.125  0.222222  0.295806       NaN"
      ]
     },
     "execution_count": 14,
     "metadata": {
      "tags": []
     },
     "output_type": "execute_result"
    }
   ],
   "source": [
    "from sklearn.preprocessing import MinMaxScaler\n",
    "sc = MinMaxScaler()\n",
    "#col = ['sex','embarked','pclass','age','fare']\n",
    "titanic = df.select_dtypes(exclude=['object'])\n",
    "titanic_sc = pd.DataFrame(sc.fit_transform(titanic))\n",
    "titanic_sc.head()"
   ]
  },
  {
   "cell_type": "markdown",
   "metadata": {
    "colab_type": "text",
    "id": "wB9-5x83mFAO"
   },
   "source": [
    "\n",
    "\n",
    "---\n",
    "2. Drop the original age, fare columns\n",
    "3. Append the normalized columns to the titanic_data_new DataFrame.\n",
    "\n",
    "\n",
    "\n",
    "---\n",
    "\n"
   ]
  },
  {
   "cell_type": "code",
   "execution_count": 0,
   "metadata": {
    "colab": {},
    "colab_type": "code",
    "id": "Kb00kM0onQJy"
   },
   "outputs": [],
   "source": [
    "df.drop(['age','fare'],axis=1)\n",
    "out_data = pd.concat([titanic_data_new,titanic_sc],axis=1)"
   ]
  },
  {
   "cell_type": "markdown",
   "metadata": {
    "colab_type": "text",
    "id": "uLxN3PozntKe"
   },
   "source": [
    "###Plotting\n",
    "1. plot the age against the ID(continuous)\n",
    "2. plot the fare against the ID(scatter)"
   ]
  },
  {
   "cell_type": "code",
   "execution_count": 30,
   "metadata": {
    "colab": {
     "base_uri": "https://localhost:8080/",
     "height": 700
    },
    "colab_type": "code",
    "executionInfo": {
     "elapsed": 2880,
     "status": "ok",
     "timestamp": 1587130541385,
     "user": {
      "displayName": "Soham Naha",
      "photoUrl": "",
      "userId": "16336359137283689663"
     },
     "user_tz": -330
    },
    "id": "LdSfNEKYn_RO",
    "outputId": "8104db84-63bd-47ec-c5f5-112bd70a20be"
   },
   "outputs": [
    {
     "data": {
      "text/plain": [
       "(1.0, 1309.0)"
      ]
     },
     "execution_count": 30,
     "metadata": {
      "tags": []
     },
     "output_type": "execute_result"
    },
    {
     "data": {
      "image/png": "[encoded data removed]",
      "text/plain": [
       "<Figure size 360x360 with 1 Axes>"
      ]
     },
     "metadata": {
      "needs_background": "light",
      "tags": []
     },
     "output_type": "display_data"
    },
    {
     "data": {
      "image/png": "[encoded data removed]",
      "text/plain": [
       "<Figure size 360x360 with 1 Axes>"
      ]
     },
     "metadata": {
      "needs_background": "light",
      "tags": []
     },
     "output_type": "display_data"
    }
   ],
   "source": [
    "index = [i for i in range(1,df.shape[0]+1)]\n",
    "plt.figure(figsize=(5,5))\n",
    "plt.plot(index,out_data['age'],'--r',linewidth=0.5)\n",
    "plt.title(\"Age vs ID\")\n",
    "plt.xlabel(\"ID\")\n",
    "plt.ylabel(\"Age\")\n",
    "plt.xlim([1,index[-1]])\n",
    "\n",
    "plt.figure(figsize=(5,5))\n",
    "plt.scatter(index,out_data['fare'],c='coral',s=5)\n",
    "plt.title(\"Fare vs ID\")\n",
    "plt.xlabel(\"ID\")\n",
    "plt.ylabel(\"Fare\")\n",
    "plt.xlim([1,index[-1]])"
   ]
  },
  {
   "cell_type": "markdown",
   "metadata": {
    "colab_type": "text",
    "id": "LQr7y6eevTvy"
   },
   "source": [
    "## End of Part - 2\n",
    "---"
   ]
  },
  {
   "cell_type": "markdown",
   "metadata": {
    "colab_type": "text",
    "id": "TWhZcKvfvW2B"
   },
   "source": [
    "## Part - 3\n",
    "---"
   ]
  },
  {
   "cell_type": "markdown",
   "metadata": {
    "colab_type": "text",
    "id": "8bY4H9DszQ2S"
   },
   "source": [
    "In this part, you will work with the library ```matplotlib```. Import the ```pyplot``` from ```matplotlib``` with an alias name ```plt```."
   ]
  },
  {
   "cell_type": "markdown",
   "metadata": {
    "colab_type": "text",
    "id": "fQ6KX_Aezlub"
   },
   "source": [
    "Plot the sine function with domain in $[-3\\pi,3\\pi]$. Label the axes appropriately. Add title $\\sin(x)$. Use latex formatting while adding the title. Set the plot size to (10,10)"
   ]
  },
  {
   "cell_type": "code",
   "execution_count": 17,
   "metadata": {
    "colab": {
     "base_uri": "https://localhost:8080/",
     "height": 369
    },
    "colab_type": "code",
    "executionInfo": {
     "elapsed": 4896,
     "status": "ok",
     "timestamp": 1587129602906,
     "user": {
      "displayName": "Soham Naha",
      "photoUrl": "",
      "userId": "16336359137283689663"
     },
     "user_tz": -330
    },
    "id": "0tA3J5mA1cQ0",
    "outputId": "4f8966ef-8b7f-41c0-92e6-defd0718361c"
   },
   "outputs": [
    {
     "data": {
      "text/plain": [
       "Text(0.5, 1.0, '$\\\\mathtt{sin}(x)$')"
      ]
     },
     "execution_count": 17,
     "metadata": {
      "tags": []
     },
     "output_type": "execute_result"
    },
    {
     "data": {
      "image/png": "[encoded data removed]",
      "text/plain": [
       "<Figure size 360x360 with 1 Axes>"
      ]
     },
     "metadata": {
      "needs_background": "light",
      "tags": []
     },
     "output_type": "display_data"
    }
   ],
   "source": [
    "x = np.linspace(-3*np.pi,3*np.pi,100)\n",
    "y = np.sin(x)\n",
    "plt.figure(figsize=(5,5))\n",
    "plt.plot(x,y)\n",
    "plt.xlabel(r\"$\\mathtt{x -->}$\")\n",
    "plt.ylabel(r\"$\\mathtt{sin(x)}$ -->\")\n",
    "plt.title(r\"$\\mathtt{sin}(x)$\")"
   ]
  },
  {
   "cell_type": "markdown",
   "metadata": {
    "colab_type": "text",
    "id": "6KV7RqMm1d8P"
   },
   "source": [
    "Plot $\\sin(x)$ and its spectrum, $\\cos(x)$ and its spectrum in a single plot, in the domain $[-2\\pi,2\\pi]$. Label the plot appropriately."
   ]
  },
  {
   "cell_type": "code",
   "execution_count": 34,
   "metadata": {
    "colab": {
     "base_uri": "https://localhost:8080/",
     "height": 644
    },
    "colab_type": "code",
    "executionInfo": {
     "elapsed": 2768,
     "status": "ok",
     "timestamp": 1587130857877,
     "user": {
      "displayName": "Soham Naha",
      "photoUrl": "",
      "userId": "16336359137283689663"
     },
     "user_tz": -330
    },
    "id": "-OJuY0HO12Oo",
    "outputId": "62ad60f3-6b19-4bbe-8c9c-637be28fce4c"
   },
   "outputs": [
    {
     "data": {
      "text/plain": [
       "Text(0, 0.5, '$\\\\mathtt{|cos(x)|} -->$')"
      ]
     },
     "execution_count": 34,
     "metadata": {
      "tags": []
     },
     "output_type": "execute_result"
    },
    {
     "data": {
      "image/png": "[encoded data removed]",
      "text/plain": [
       "<Figure size 720x720 with 4 Axes>"
      ]
     },
     "metadata": {
      "needs_background": "light",
      "tags": []
     },
     "output_type": "display_data"
    }
   ],
   "source": [
    "plt.figure(figsize=(10,10))\n",
    "\n",
    "plt.subplot(221)\n",
    "fft_sinx = np.fft.fft(y)\n",
    "plt.plot(x,y)\n",
    "plt.title(r\"$\\mathtt{sin(x)}$ vs $\\mathtt{x}$\")\n",
    "plt.xlabel(r\"$\\mathtt{x -->}$\")\n",
    "plt.ylabel(r\"$\\mathtt{sin(x)} -->$\")\n",
    "\n",
    "plt.subplot(222)\n",
    "plt.plot(x/(2*np.pi),-fft_sinx.imag)\n",
    "plt.title(r\"Spectrum of $\\mathtt{sin(x)}$\")\n",
    "plt.xlabel(r\"$\\mathtt{freq -->}$\")\n",
    "plt.ylabel(r\"$\\mathtt{|sin(x)|} -->$\")\n",
    "\n",
    "\n",
    "plt.subplot(223)\n",
    "z = np.cos(x)\n",
    "fft_cosx = np.fft.fft(z)\n",
    "plt.plot(x,z)\n",
    "plt.title(r\"$\\mathtt{cos(x)}$ vs $\\mathtt{x}$\")\n",
    "plt.xlabel(r\"$\\mathtt{x -->}$\")\n",
    "plt.ylabel(r\"$\\mathtt{cos(x)} -->$\")\n",
    "\n",
    "\n",
    "plt.subplot(224)\n",
    "plt.plot(x/(2*np.pi),-fft_cosx.real)\n",
    "plt.title(r\"Spectrum of $\\mathtt{cos(x)}$\")\n",
    "plt.xlabel(r\"$\\mathtt{freq -->}$\")\n",
    "plt.ylabel(r\"$\\mathtt{|cos(x)|} -->$\")"
   ]
  },
  {
   "cell_type": "markdown",
   "metadata": {
    "colab_type": "text",
    "id": "1S6ZRm6B18ZF"
   },
   "source": [
    "## End of Part - 3\n",
    "---"
   ]
  },
  {
   "cell_type": "markdown",
   "metadata": {
    "colab_type": "text",
    "id": "MUucpzXBl096"
   },
   "source": [
    "Create a Github repository with the name ***SHALA2020*** and save this assignment there."
   ]
  }
 ],
 "metadata": {
  "colab": {
   "collapsed_sections": [],
   "name": "soham_naha.ipynb",
   "provenance": []
  },
  "kernelspec": {
   "display_name": "Python 3",
   "language": "python",
   "name": "python3"
  },
  "language_info": {
   "codemirror_mode": {
    "name": "ipython",
    "version": 3
   },
   "file_extension": ".py",
   "mimetype": "text/x-python",
   "name": "python",
   "nbconvert_exporter": "python",
   "pygments_lexer": "ipython3",
   "version": "3.8.2"
  }
 },
 "nbformat": 4,
 "nbformat_minor": 1
}
